{
 "cells": [
  {
   "cell_type": "code",
   "execution_count": 1,
   "metadata": {},
   "outputs": [],
   "source": [
    "import pandas as pd    # to load dataset\n",
    "import numpy as np     # for mathematic equation\n",
    "from nltk.corpus import stopwords   # to get collection of stopwords\n",
    "from sklearn.model_selection import train_test_split       # for splitting dataset\n",
    "from tensorflow.keras.preprocessing.text import Tokenizer  # to encode text to int\n",
    "from tensorflow.keras.preprocessing.sequence import pad_sequences   # to do padding or truncating\n",
    "from tensorflow.keras.models import Sequential     # the model\n",
    "from tensorflow.keras.layers import Embedding, LSTM, Dense # layers of the architecture\n",
    "from tensorflow.keras.callbacks import ModelCheckpoint   # save model\n",
    "from tensorflow.keras.models import load_model   # load saved model\n",
    "import tensorflow_datasets as tfds\n",
    "import keras\n",
    "import re\n",
    "import tarfile\n",
    "from matplotlib import pyplot as plt\n",
    "import csv\n",
    "import io\n",
    "import os\n",
    "from collections import defaultdict\n",
    "from nltk.tokenize import RegexpTokenizer\n",
    "from tensorflow.keras.preprocessing.text import text_to_word_sequence, Tokenizer"
   ]
  },
  {
   "cell_type": "markdown",
   "metadata": {},
   "source": [
    "# Exercice 1: Reccurent neuronal network: IMBD sentiment classification"
   ]
  },
  {
   "cell_type": "markdown",
   "metadata": {},
   "source": [
    "## Our goal here will be to be able to predict if a comment is positive or negative based only on the text comment"
   ]
  },
  {
   "cell_type": "markdown",
   "metadata": {},
   "source": [
    "### First, we importe all the needed libraries"
   ]
  },
  {
   "cell_type": "markdown",
   "metadata": {},
   "source": [
    "### We preview the dataset"
   ]
  },
  {
   "cell_type": "code",
   "execution_count": 14,
   "metadata": {},
   "outputs": [
    {
     "name": "stdout",
     "output_type": "stream",
     "text": [
      "                                                  review sentiment\n",
      "0      One of the other reviewers has mentioned that ...  positive\n",
      "1      A wonderful little production. <br /><br />The...  positive\n",
      "2      I thought this was a wonderful way to spend ti...  positive\n",
      "3      Basically there's a family where a little boy ...  negative\n",
      "4      Petter Mattei's \"Love in the Time of Money\" is...  positive\n",
      "...                                                  ...       ...\n",
      "49995  I thought this movie did a down right good job...  positive\n",
      "49996  Bad plot, bad dialogue, bad acting, idiotic di...  negative\n",
      "49997  I am a Catholic taught in parochial elementary...  negative\n",
      "49998  I'm going to have to disagree with the previou...  negative\n",
      "49999  No one expects the Star Trek movies to be high...  negative\n",
      "\n",
      "[50000 rows x 2 columns]\n"
     ]
    }
   ],
   "source": [
    "url = https://public.bitmex.com/?prefix=data/\n",
    "    \n",
    "data = pd.read_csv('IMDB Dataset.csv')\n",
    "\n",
    "print(data)"
   ]
  },
  {
   "cell_type": "code",
   "execution_count": 15,
   "metadata": {},
   "outputs": [
    {
     "name": "stdout",
     "output_type": "stream",
     "text": [
      "['i', 'me', 'my', 'myself', 'we', 'our', 'ours', 'ourselves', 'you', \"you're\", \"you've\", \"you'll\", \"you'd\", 'your', 'yours', 'yourself', 'yourselves', 'he', 'him', 'his', 'himself', 'she', \"she's\", 'her', 'hers', 'herself', 'it', \"it's\", 'its', 'itself', 'they', 'them', 'their', 'theirs', 'themselves', 'what', 'which', 'who', 'whom', 'this', 'that', \"that'll\", 'these', 'those', 'am', 'is', 'are', 'was', 'were', 'be', 'been', 'being', 'have', 'has', 'had', 'having', 'do', 'does', 'did', 'doing', 'a', 'an', 'the', 'and', 'but', 'if', 'or', 'because', 'as', 'until', 'while', 'of', 'at', 'by', 'for', 'with', 'about', 'against', 'between', 'into', 'through', 'during', 'before', 'after', 'above', 'below', 'to', 'from', 'up', 'down', 'in', 'out', 'on', 'off', 'over', 'under', 'again', 'further', 'then', 'once', 'here', 'there', 'when', 'where', 'why', 'how', 'all', 'any', 'both', 'each', 'few', 'more', 'most', 'other', 'some', 'such', 'no', 'nor', 'not', 'only', 'own', 'same', 'so', 'than', 'too', 'very', 's', 't', 'can', 'will', 'just', 'don', \"don't\", 'should', \"should've\", 'now', 'd', 'll', 'm', 'o', 're', 've', 'y', 'ain', 'aren', \"aren't\", 'couldn', \"couldn't\", 'didn', \"didn't\", 'doesn', \"doesn't\", 'hadn', \"hadn't\", 'hasn', \"hasn't\", 'haven', \"haven't\", 'isn', \"isn't\", 'ma', 'mightn', \"mightn't\", 'mustn', \"mustn't\", 'needn', \"needn't\", 'shan', \"shan't\", 'shouldn', \"shouldn't\", 'wasn', \"wasn't\", 'weren', \"weren't\", 'won', \"won't\", 'wouldn', \"wouldn't\"]\n"
     ]
    }
   ],
   "source": [
    "english_stops = set(stopwords.words('english'))\n",
    "print(stopwords.words('english'))"
   ]
  },
  {
   "cell_type": "markdown",
   "metadata": {},
   "source": [
    "### Load and Clean Dataset"
   ]
  },
  {
   "cell_type": "markdown",
   "metadata": {},
   "source": [
    "since we do not "
   ]
  },
  {
   "cell_type": "markdown",
   "metadata": {},
   "source": [
    "### Encode Sentiments"
   ]
  },
  {
   "cell_type": "code",
   "execution_count": 16,
   "metadata": {},
   "outputs": [
    {
     "name": "stdout",
     "output_type": "stream",
     "text": [
      "Reviews\n",
      "0        [one, reviewers, mentioned, watching, oz, epis...\n",
      "1        [a, wonderful, little, production, the, filmin...\n",
      "2        [i, thought, wonderful, way, spend, time, hot,...\n",
      "3        [basically, family, little, boy, jake, thinks,...\n",
      "4        [petter, mattei, love, time, money, visually, ...\n",
      "                               ...                        \n",
      "49995    [i, thought, movie, right, good, job, it, crea...\n",
      "49996    [bad, plot, bad, dialogue, bad, acting, idioti...\n",
      "49997    [i, catholic, taught, parochial, elementary, s...\n",
      "49998    [i, going, disagree, previous, comment, side, ...\n",
      "49999    [no, one, expects, star, trek, movies, high, a...\n",
      "Name: review, Length: 50000, dtype: object \n",
      "\n",
      "Sentiment\n",
      "0        1\n",
      "1        1\n",
      "2        1\n",
      "3        0\n",
      "4        1\n",
      "        ..\n",
      "49995    1\n",
      "49996    0\n",
      "49997    0\n",
      "49998    0\n",
      "49999    0\n",
      "Name: sentiment, Length: 50000, dtype: int64\n"
     ]
    }
   ],
   "source": [
    "def load_dataset():\n",
    "    df = pd.read_csv('IMDB Dataset.csv')\n",
    "    x_data = df['review']       # Reviews/Input\n",
    "    y_data = df['sentiment']    # Sentiment/Output\n",
    "\n",
    "    # PRE-PROCESS REVIEW\n",
    "    x_data = x_data.replace({'<.*?>': ''}, regex = True)          # remove html tag\n",
    "    x_data = x_data.replace({'[^A-Za-z]': ' '}, regex = True)     # remove non alphabet\n",
    "    x_data = x_data.apply(lambda review: [w for w in review.split() if w not in english_stops])  # remove stop words\n",
    "    x_data = x_data.apply(lambda review: [w.lower() for w in review])   # lower case\n",
    "    \n",
    "    # ENCODE SENTIMENT -> 0 & 1\n",
    "    y_data = y_data.replace('positive', 1)\n",
    "    y_data = y_data.replace('negative', 0)\n",
    "\n",
    "    return x_data, y_data\n",
    "\n",
    "x_data, y_data = load_dataset()\n",
    "\n",
    "print('Reviews')\n",
    "print(x_data, '\\n')\n",
    "print('Sentiment')\n",
    "print(y_data)"
   ]
  },
  {
   "cell_type": "markdown",
   "metadata": {},
   "source": [
    "### Split data"
   ]
  },
  {
   "cell_type": "code",
   "execution_count": 17,
   "metadata": {},
   "outputs": [
    {
     "name": "stdout",
     "output_type": "stream",
     "text": [
      "Train Set\n",
      "9382     [it, begins, series, thefts, seemingly, unrela...\n",
      "28677    [if, like, films, school, bullies, brave, chil...\n",
      "40564    [spacecamp, favorite, movie, it, great, story,...\n",
      "24582    [actually, i, still, doubt, anything, movie, i...\n",
      "38675    [well, nice, surprise, trailer, predict, good,...\n",
      "                               ...                        \n",
      "27723    [i, deeply, disturbed, posts, i, reading, mess...\n",
      "42312    [there, many, new, styles, sitcom, one, works,...\n",
      "31046    [i, imagine, young, people, involved, making, ...\n",
      "1566     [had, ned, kelly, born, later, probably, would...\n",
      "49617    [if, tired, repetitive, unintelligent, materia...\n",
      "Name: review, Length: 40000, dtype: object \n",
      "\n",
      "9382     1\n",
      "28677    1\n",
      "40564    1\n",
      "24582    0\n",
      "38675    1\n",
      "        ..\n",
      "27723    0\n",
      "42312    1\n",
      "31046    0\n",
      "1566     1\n",
      "49617    1\n",
      "Name: sentiment, Length: 40000, dtype: int64 \n",
      "\n",
      "Test Set\n",
      "4877     [as, many, today, movies, guilty, plot, exactl...\n",
      "37358    [when, employees, theater, find, old, reel, fi...\n",
      "5244     [this, plot, driven, movie, extremely, enterta...\n",
      "34277    [there, worse, criticism, movie, word, boring,...\n",
      "47256    [great, fun, i, went, friends, sneak, preview,...\n",
      "                               ...                        \n",
      "9638     [william, haines, sparks, tale, brash, cadet, ...\n",
      "19185    [don, listen, misleading, title, werewolf, wom...\n",
      "39608    [this, entertaining, movie, i, really, enjoyed...\n",
      "39483    [this, movie, times, wild, college, sex, comed...\n",
      "44515    [to, finally, see, many, consider, greatest, w...\n",
      "Name: review, Length: 10000, dtype: object \n",
      "\n",
      "4877     1\n",
      "37358    0\n",
      "5244     1\n",
      "34277    0\n",
      "47256    1\n",
      "        ..\n",
      "9638     1\n",
      "19185    0\n",
      "39608    1\n",
      "39483    0\n",
      "44515    1\n",
      "Name: sentiment, Length: 10000, dtype: int64\n"
     ]
    }
   ],
   "source": [
    "x_train, x_test, y_train, y_test = train_test_split(x_data, y_data, test_size = 0.2)\n",
    "\n",
    "print('Train Set')\n",
    "print(x_train, '\\n')\n",
    "print(y_train, '\\n')\n",
    "print('Test Set')\n",
    "print(x_test, '\\n')\n",
    "print(y_test)"
   ]
  },
  {
   "cell_type": "code",
   "execution_count": 18,
   "metadata": {},
   "outputs": [],
   "source": [
    "#function for getting the maximum review length\n",
    "def get_max_length():\n",
    "    review_length = []\n",
    "    for review in x_train:\n",
    "        review_length.append(len(review))\n",
    "\n",
    "    return int(np.ceil(np.mean(review_length)))"
   ]
  },
  {
   "cell_type": "markdown",
   "metadata": {},
   "source": [
    "### Tokenize and Pad/Truncate Reviews"
   ]
  },
  {
   "cell_type": "code",
   "execution_count": 19,
   "metadata": {},
   "outputs": [
    {
     "name": "stdout",
     "output_type": "stream",
     "text": [
      "Encoded X Train\n",
      " [[    7   734   107 ...     0     0     0]\n",
      " [   55     6    35 ...    72   137   121]\n",
      " [22766   416     3 ...   212  2856   102]\n",
      " ...\n",
      " [    1   724    96 ...     0     0     0]\n",
      " [ 3021  3581  1395 ...  3322  8473   144]\n",
      " [   55  1340  3391 ...     0     0     0]] \n",
      "\n",
      "Encoded X Test\n",
      " [[ 108   37  398 ...  216  583    7]\n",
      " [ 172 7203  638 ...    0    0    0]\n",
      " [   8   44 1967 ...    0    0    0]\n",
      " ...\n",
      " [   8  333    3 ... 1935  324 1101]\n",
      " [   8    3  117 ...    0    0    0]\n",
      " [ 283  322   13 ... 1120 7926  666]] \n",
      "\n",
      "Maximum review length:  130\n"
     ]
    }
   ],
   "source": [
    "# ENCODE REVIEW\n",
    "token = Tokenizer(lower=False)    # no need lower, because already lowered the data in load_data()\n",
    "token.fit_on_texts(x_train)\n",
    "x_train = token.texts_to_sequences(x_train)\n",
    "x_test = token.texts_to_sequences(x_test)\n",
    "\n",
    "max_length = get_max_length()\n",
    "\n",
    "x_train = pad_sequences(x_train, maxlen=max_length, padding='post', truncating='post')\n",
    "x_test = pad_sequences(x_test, maxlen=max_length, padding='post', truncating='post')\n",
    "\n",
    "total_words = len(token.word_index) + 1   # add 1 because of 0 padding\n",
    "\n",
    "print('Encoded X Train\\n', x_train, '\\n')\n",
    "print('Encoded X Test\\n', x_test, '\\n')\n",
    "print('Maximum review length: ', max_length)"
   ]
  },
  {
   "cell_type": "markdown",
   "metadata": {},
   "source": [
    "### Build Architecture/Model"
   ]
  },
  {
   "cell_type": "code",
   "execution_count": 20,
   "metadata": {},
   "outputs": [
    {
     "name": "stdout",
     "output_type": "stream",
     "text": [
      "Model: \"sequential_1\"\n",
      "_________________________________________________________________\n",
      "Layer (type)                 Output Shape              Param #   \n",
      "=================================================================\n",
      "embedding_1 (Embedding)      (None, 130, 32)           2959232   \n",
      "_________________________________________________________________\n",
      "lstm_1 (LSTM)                (None, 64)                24832     \n",
      "_________________________________________________________________\n",
      "dense_1 (Dense)              (None, 1)                 65        \n",
      "=================================================================\n",
      "Total params: 2,984,129\n",
      "Trainable params: 2,984,129\n",
      "Non-trainable params: 0\n",
      "_________________________________________________________________\n",
      "None\n"
     ]
    }
   ],
   "source": [
    "# ARCHITECTURE\n",
    "EMBED_DIM = 32\n",
    "LSTM_OUT = 64\n",
    "\n",
    "model = Sequential()\n",
    "model.add(Embedding(total_words, EMBED_DIM, input_length = max_length))\n",
    "model.add(LSTM(LSTM_OUT))\n",
    "model.add(Dense(1, activation='sigmoid'))\n",
    "model.compile(optimizer = 'adam', loss = 'binary_crossentropy', metrics = ['accuracy'])\n",
    "\n",
    "print(model.summary())"
   ]
  },
  {
   "cell_type": "markdown",
   "metadata": {},
   "source": [
    "### Training"
   ]
  },
  {
   "cell_type": "code",
   "execution_count": null,
   "metadata": {
    "scrolled": true
   },
   "outputs": [
    {
     "name": "stdout",
     "output_type": "stream",
     "text": [
      "Epoch 1/5\n",
      "313/313 [==============================] - 26s 78ms/step - loss: 0.5809 - accuracy: 0.6376\n",
      "\n",
      "Epoch 00001: accuracy improved from -inf to 0.76395, saving model to models\\LSTM.h5\n",
      "Epoch 2/5\n",
      "313/313 [==============================] - 25s 79ms/step - loss: 0.1968 - accuracy: 0.9329\n",
      "\n",
      "Epoch 00002: accuracy improved from 0.76395 to 0.92862, saving model to models\\LSTM.h5\n",
      "Epoch 3/5\n",
      "221/313 [====================>.........] - ETA: 7s - loss: 0.1118 - accuracy: 0.9658"
     ]
    }
   ],
   "source": [
    "checkpoint = ModelCheckpoint(\n",
    "    'models/LSTM.h5',\n",
    "    monitor='accuracy',\n",
    "    save_best_only=True,\n",
    "    verbose=1\n",
    ")\n",
    "model.fit(x_train, y_train, batch_size = 128, epochs = 5, callbacks=[checkpoint])"
   ]
  },
  {
   "cell_type": "markdown",
   "metadata": {},
   "source": [
    "### Testing"
   ]
  },
  {
   "cell_type": "code",
   "execution_count": null,
   "metadata": {},
   "outputs": [],
   "source": [
    "y_pred = model.predict_classes(x_test, batch_size = 128)\n",
    "\n",
    "true = 0\n",
    "for i, y in enumerate(y_test):\n",
    "    if y == y_pred[i]:\n",
    "        true += 1\n",
    "\n",
    "print('Correct Prediction: {}'.format(true))\n",
    "print('Wrong Prediction: {}'.format(len(y_pred) - true))\n",
    "print('Accuracy: {}'.format(true/len(y_pred)*100))"
   ]
  },
  {
   "cell_type": "markdown",
   "metadata": {},
   "source": [
    "### Load Saved Model"
   ]
  },
  {
   "cell_type": "code",
   "execution_count": 66,
   "metadata": {},
   "outputs": [
    {
     "name": "stdout",
     "output_type": "stream",
     "text": [
      "Movie Review: This is not a good movie.\n"
     ]
    }
   ],
   "source": [
    "loaded_model = load_model('models/LSTM.h5')\n",
    "review = str(input('Movie Review: '))"
   ]
  },
  {
   "cell_type": "code",
   "execution_count": 67,
   "metadata": {},
   "outputs": [
    {
     "name": "stdout",
     "output_type": "stream",
     "text": [
      "Cleaned:  This is not a good movie\n",
      "Filtered:  ['this good movie']\n"
     ]
    }
   ],
   "source": [
    "# Pre-process input\n",
    "regex = re.compile(r'[^a-zA-Z\\s]')\n",
    "review = regex.sub('', review)\n",
    "print('Cleaned: ', review)\n",
    "\n",
    "words = review.split(' ')\n",
    "filtered = [w for w in words if w not in english_stops]\n",
    "filtered = ' '.join(filtered)\n",
    "filtered = [filtered.lower()]\n",
    "\n",
    "print('Filtered: ', filtered)"
   ]
  },
  {
   "cell_type": "code",
   "execution_count": 68,
   "metadata": {},
   "outputs": [
    {
     "name": "stdout",
     "output_type": "stream",
     "text": [
      "[[8 9 3 0 0 0 0 0 0 0 0 0 0 0 0 0 0 0 0 0 0 0 0 0 0 0 0 0 0 0 0 0 0 0 0 0\n",
      "  0 0 0 0 0 0 0 0 0 0 0 0 0 0 0 0 0 0 0 0 0 0 0 0 0 0 0 0 0 0 0 0 0 0 0 0\n",
      "  0 0 0 0 0 0 0 0 0 0 0 0 0 0 0 0 0 0 0 0 0 0 0 0 0 0 0 0 0 0 0 0 0 0 0 0\n",
      "  0 0 0 0 0 0 0 0 0 0 0 0 0 0 0 0 0 0 0 0 0 0 0]]\n"
     ]
    }
   ],
   "source": [
    "tokenize_words = token.texts_to_sequences(filtered)\n",
    "tokenize_words = pad_sequences(tokenize_words, maxlen=max_length, padding='post', truncating='post')\n",
    "print(tokenize_words)"
   ]
  },
  {
   "cell_type": "markdown",
   "metadata": {},
   "source": [
    "### Predict the sentiment of short textual comments about movies"
   ]
  },
  {
   "cell_type": "code",
   "execution_count": 69,
   "metadata": {},
   "outputs": [
    {
     "name": "stdout",
     "output_type": "stream",
     "text": [
      "WARNING:tensorflow:11 out of the last 11 calls to <function Model.make_predict_function.<locals>.predict_function at 0x00000153BEF60DC0> triggered tf.function retracing. Tracing is expensive and the excessive number of tracings could be due to (1) creating @tf.function repeatedly in a loop, (2) passing tensors with different shapes, (3) passing Python objects instead of tensors. For (1), please define your @tf.function outside of the loop. For (2), @tf.function has experimental_relax_shapes=True option that relaxes argument shapes that can avoid unnecessary retracing. For (3), please refer to https://www.tensorflow.org/guide/function#controlling_retracing and https://www.tensorflow.org/api_docs/python/tf/function for  more details.\n",
      "[[0.7746602]]\n"
     ]
    }
   ],
   "source": [
    "result = loaded_model.predict(tokenize_words)\n",
    "print(result)"
   ]
  },
  {
   "cell_type": "code",
   "execution_count": 70,
   "metadata": {},
   "outputs": [
    {
     "name": "stdout",
     "output_type": "stream",
     "text": [
      "positive\n"
     ]
    }
   ],
   "source": [
    "if result >= 0.7:\n",
    "    print('positive')\n",
    "else:\n",
    "    print('negative')"
   ]
  },
  {
   "cell_type": "markdown",
   "metadata": {},
   "source": [
    "# Exercice 2: Text Classification: the Ohsumed dataset"
   ]
  },
  {
   "cell_type": "markdown",
   "metadata": {},
   "source": [
    "## For this second exercice we are going to realize a text classifier using deep neural networks"
   ]
  },
  {
   "cell_type": "markdown",
   "metadata": {},
   "source": [
    "### To beginning, we are going to only use the dataset that contains 20 000 articles"
   ]
  },
  {
   "cell_type": "markdown",
   "metadata": {},
   "source": [
    "#### a) Recuperation of the datas"
   ]
  },
  {
   "cell_type": "code",
   "execution_count": 219,
   "metadata": {},
   "outputs": [],
   "source": [
    "## Parse your data\n",
    "def get_info(path: str):\n",
    "    data = list(os.walk(path))[1:]\n",
    "    files = []\n",
    "    categories = []\n",
    "    textes = []\n",
    "    for d in data:\n",
    "        folder_name = d[0]\n",
    "        for file in d[2]:\n",
    "            s = folder_name.split('/')[-1].split(\"\\\\\")[1]\n",
    "            categories.append(s) # the tags of our model\n",
    "            files.append((folder_name.split('/')[-1], os.path.join(folder_name, file)))\n",
    "\n",
    "    d = defaultdict(int)\n",
    "    texts = defaultdict(list)\n",
    "    for (cate, file) in files:\n",
    "        with open(file, 'r') as outfile:\n",
    "            text = outfile.read()\n",
    "            texts[cate].append(text)\n",
    "            textes.append(text)\n",
    "            words = text_to_word_sequence(text)\n",
    "            for word in words:\n",
    "                d[word] += 1\n",
    "    data = pd.DataFrame(data={'Categories' : categories, 'Textes' : textes}) # a dataFrame with the categorie corresponding to its text description\n",
    "    words = sorted(d.items(), key=lambda x: x[1], reverse=True)\n",
    "    return (data, words)"
   ]
  },
  {
   "cell_type": "code",
   "execution_count": 220,
   "metadata": {},
   "outputs": [
    {
     "name": "stdout",
     "output_type": "stream",
     "text": [
      "10433\n"
     ]
    }
   ],
   "source": [
    "# First we import the dataset of 20 000\n",
    "cwd = os.getcwd()\n",
    "data_dir_training = cwd + \"/ohsumed-first-20000-docs/training\"\n",
    "data_dir_test = cwd + \"/ohsumed-first-20000-docs/test\"\n",
    "data_train, words = get_info(data_dir_training)\n",
    "data_test, words_train = get_info(data_dir_test)\n",
    "print(len(data_train))"
   ]
  },
  {
   "cell_type": "markdown",
   "metadata": {},
   "source": [
    "#### b) Some small basic statistic and analysis of our data"
   ]
  },
  {
   "cell_type": "markdown",
   "metadata": {},
   "source": [
    "#### c) Preprocessinf of the data"
   ]
  },
  {
   "cell_type": "code",
   "execution_count": 221,
   "metadata": {},
   "outputs": [
    {
     "name": "stdout",
     "output_type": "stream",
     "text": [
      "{'than', 't', \"shan't\", 'his', \"haven't\", 'during', 'myself', 'how', 'before', \"you'd\", 'after', \"you're\", \"don't\", 'y', 'is', 'yourself', 'they', 'he', 'those', 'can', 've', 'all', 'she', 'was', \"mightn't\", 'both', \"won't\", 'from', \"isn't\", 'but', 'because', 'each', 'wouldn', 'only', 'what', 'as', 'whom', 'not', 'until', 'have', 'ma', 'do', 'where', 'of', 'hadn', 'and', 'himself', 'does', 'these', \"should've\", 'them', 'under', 'isn', 'm', 'this', 'has', 'haven', 'yourselves', 'won', 's', 'to', 'me', \"it's\", 'who', 'doing', 'needn', 'couldn', 'i', 'itself', 'between', 'out', 'when', 'be', \"you've\", 'about', 'nor', 'am', 'very', \"hadn't\", \"wasn't\", 'for', 'having', 'o', 'or', 're', 'in', 'don', 'mustn', 'shan', 'up', 'too', \"wouldn't\", 'mightn', 'been', 'at', 'shouldn', 'will', \"mustn't\", 'an', 'again', \"you'll\", \"doesn't\", 'we', 'above', 'some', 'most', 'hers', 'your', 'ain', 'ourselves', 'why', 'my', 'didn', 'the', 'off', 'any', 'here', 'theirs', 'on', 'were', 'aren', 'are', 'by', \"hasn't\", 'if', 'once', \"weren't\", 'other', 'down', \"aren't\", \"shouldn't\", 'it', 'themselves', 'her', 'no', 'so', 'into', \"she's\", 'being', 'that', 'now', 'just', 'hasn', 'below', 'which', 'their', \"needn't\", 'while', 'few', 'ours', \"couldn't\", 'own', 'against', 'over', 'you', 'same', 'd', 'doesn', 'wasn', \"that'll\", 'such', 'should', 'll', 'had', 'him', 'a', 'our', 'then', \"didn't\", 'through', 'weren', 'more', 'there', 'further', 'did', 'with', 'herself', 'its', 'yours'}\n"
     ]
    }
   ],
   "source": [
    "english_stops = set(stopwords.words('english'))\n",
    "print(english_stops)"
   ]
  },
  {
   "cell_type": "code",
   "execution_count": 222,
   "metadata": {},
   "outputs": [
    {
     "name": "stdout",
     "output_type": "stream",
     "text": [
      "text\n",
      "0        [augmentation, mentoplasty, using, mersilene, ...\n",
      "1        [multiple, intracranial, mucoceles, associated...\n",
      "2        [replacement, aortic, valve, cusp, neonatal, e...\n",
      "3        [the, value, indium, leukocyte, scanning, eval...\n",
      "4        [febrile, infants, less, eight, weeks, old, pr...\n",
      "                               ...                        \n",
      "10428    [afferent, nipple, valve, malfunction, caused,...\n",
      "10429    [extracorporeal, shock, wave, lithotripsy, com...\n",
      "10430    [tamm, horsfall, autoantibodies, interstitial,...\n",
      "10431    [results, contemporary, radical, cystectomy, i...\n",
      "10432    [total, bladder, replacement, using, detubular...\n",
      "Name: Textes, Length: 10433, dtype: object \n",
      "\n",
      "type\n",
      "0         0\n",
      "1         0\n",
      "2         0\n",
      "3         0\n",
      "4         0\n",
      "         ..\n",
      "10428    22\n",
      "10429    22\n",
      "10430    22\n",
      "10431    22\n",
      "10432    22\n",
      "Name: Categories, Length: 10433, dtype: int64\n"
     ]
    }
   ],
   "source": [
    "\n",
    "token = Tokenizer(lower=False)    # no need lower, because already lowered the data in load_data()\n",
    "word_index=token.word_index\n",
    "def clean_dataset(df):\n",
    "    x_data = df['Textes']    \n",
    "    y_data = df['Categories']\n",
    "\n",
    "    # PRE-PROCESS REVIEW\n",
    "    x_data = x_data.replace({'<.*?>': ''}, regex = True)          # remove html tag\n",
    "    x_data = x_data.replace({'[^A-Za-z]': ' '}, regex = True)     # remove non alphabet\n",
    "    x_data = x_data.apply(lambda review: [w for w in review.split() if w not in english_stops])  # remove stop words and the 100 more frequent words\n",
    "    x_data = x_data.apply(lambda review: [w.lower() for w in review])   # lower case\n",
    "    \n",
    "    # ENCODE SENTIMENT -> 0 to 22\n",
    "    y_data = y_data.replace('C01', 0)\n",
    "    y_data = y_data.replace('C02', 1)\n",
    "    y_data = y_data.replace('C03', 2)\n",
    "    y_data = y_data.replace('C04', 3)\n",
    "    y_data = y_data.replace('C05', 4)\n",
    "    y_data = y_data.replace('C06', 6)\n",
    "    y_data = y_data.replace('C07', 6)\n",
    "    y_data = y_data.replace('C08', 7)\n",
    "    y_data = y_data.replace('C09', 8)\n",
    "    y_data = y_data.replace('C10', 9)\n",
    "    y_data = y_data.replace('C11', 10)\n",
    "    y_data = y_data.replace('C12', 11)\n",
    "    y_data = y_data.replace('C13', 12)\n",
    "    y_data = y_data.replace('C14', 13)\n",
    "    y_data = y_data.replace('C15', 14)\n",
    "    y_data = y_data.replace('C16', 15)\n",
    "    y_data = y_data.replace('C17', 16)\n",
    "    y_data = y_data.replace('C18', 17)\n",
    "    y_data = y_data.replace('C19', 18)\n",
    "    y_data = y_data.replace('C20', 19)\n",
    "    y_data = y_data.replace('C21', 20)\n",
    "    y_data = y_data.replace('C22', 21)\n",
    "    y_data = y_data.replace('C23', 22)\n",
    "\n",
    "    return x_data, y_data\n",
    "\n",
    "x_data, y_data = clean_dataset(data_train)\n",
    "\n",
    "print('text')\n",
    "print(x_data, '\\n')\n",
    "print('type')\n",
    "print(y_data)"
   ]
  },
  {
   "cell_type": "code",
   "execution_count": 223,
   "metadata": {},
   "outputs": [
    {
     "name": "stdout",
     "output_type": "stream",
     "text": [
      "Train Set\n",
      "5465    [assessment, major, venous, anomalies, compute...\n",
      "7020    [low, dose, lovastatin, safely, lowers, choles...\n",
      "6893    [skin, manifestations, congenital, deficiency,...\n",
      "2918    [hypothyroidism, pleural, effusions, serous, e...\n",
      "8105    [treatment, moderate, severe, hypothermia, urb...\n",
      "                              ...                        \n",
      "5377    [surgical, repair, postinfarction, ventricular...\n",
      "2120    [a, small, animal, model, human, helicobacter,...\n",
      "20      [mechanical, cardiopulmonary, support, refract...\n",
      "9059    [macrophages, susceptible, targets, hiv, infec...\n",
      "8387    [willingness, health, professions, students, t...\n",
      "Name: Textes, Length: 8346, dtype: object \n",
      "\n",
      "2436     [esophageal, reflux, isolated, myotomy, achala...\n",
      "2317     [corticosteroid, treatment, reduces, mast, cel...\n",
      "9822     [bilateral, phrenic, nerve, palsy, associated,...\n",
      "2394     [obstructing, carcinoma, cecum, carcinoma, cec...\n",
      "7043     [anti, islet, cell, antibodies, nod, mice, we,...\n",
      "                               ...                        \n",
      "6197     [hypereosinophilic, syndrome, unusual, cutaneo...\n",
      "10118    [function, athymic, nude, mice, parathyroid, h...\n",
      "4055     [clinical, spectrum, leber, congenital, amauro...\n",
      "1828     [chiari, pelvic, osteotomy, osteoarthritis, th...\n",
      "2467     [outpatient, laparoscopic, laser, cholecystect...\n",
      "Name: Textes, Length: 2087, dtype: object \n",
      "\n",
      "Test Set\n",
      "5465    13\n",
      "7020    17\n",
      "6893    17\n",
      "2918     7\n",
      "8105    20\n",
      "        ..\n",
      "5377    13\n",
      "2120     6\n",
      "20       0\n",
      "9059    22\n",
      "8387    20\n",
      "Name: Categories, Length: 8346, dtype: int64 \n",
      "\n",
      "2436      6\n",
      "2317      6\n",
      "9822     22\n",
      "2394      6\n",
      "7043     17\n",
      "         ..\n",
      "6197     14\n",
      "10118    22\n",
      "4055     10\n",
      "1828      4\n",
      "2467      6\n",
      "Name: Categories, Length: 2087, dtype: int64\n"
     ]
    }
   ],
   "source": [
    "x_train, x_test, y_train, y_test = train_test_split(x_data, y_data, test_size = 0.2, )\n",
    "\n",
    "print('Train Set')\n",
    "print(x_train, '\\n')\n",
    "print(x_test, '\\n')\n",
    "print('Test Set')\n",
    "print(y_train, '\\n')\n",
    "print(y_test)"
   ]
  },
  {
   "cell_type": "code",
   "execution_count": 224,
   "metadata": {},
   "outputs": [],
   "source": [
    "def get_max_length():\n",
    "    review_length = []\n",
    "    for review in x_train:\n",
    "        review_length.append(len(review))\n",
    "\n",
    "    return int(np.ceil(np.mean(review_length)))"
   ]
  },
  {
   "cell_type": "code",
   "execution_count": 225,
   "metadata": {},
   "outputs": [],
   "source": [
    "from tensorflow.keras.layers import Flatten, Dense, Embedding, Conv1D, GlobalMaxPooling1D, Dropout\n"
   ]
  },
  {
   "cell_type": "code",
   "execution_count": 226,
   "metadata": {},
   "outputs": [
    {
     "data": {
      "text/plain": [
       "5465    13\n",
       "7020    17\n",
       "6893    17\n",
       "2918     7\n",
       "8105    20\n",
       "        ..\n",
       "5377    13\n",
       "2120     6\n",
       "20       0\n",
       "9059    22\n",
       "8387    20\n",
       "Name: Categories, Length: 8346, dtype: int64"
      ]
     },
     "execution_count": 226,
     "metadata": {},
     "output_type": "execute_result"
    }
   ],
   "source": [
    "y_train"
   ]
  },
  {
   "cell_type": "code",
   "execution_count": 227,
   "metadata": {},
   "outputs": [
    {
     "name": "stdout",
     "output_type": "stream",
     "text": [
      "Encoded X Train\n",
      " [[  417   205   493 ...     0     0     0]\n",
      " [  112   141  3809 ...    13    14   139]\n",
      " [  175   752   468 ...     0     0     0]\n",
      " ...\n",
      " [  943  1070   448 ...    61    82   367]\n",
      " [  882  1577  4839 ...   694 13739  4221]\n",
      " [17603   375 12350 ...     0     0     0]] \n",
      "\n",
      "Encoded X Test\n",
      " [[  582  1211   416 ...     0     0     0]\n",
      " [ 2571     8  2122 ...     5 16792  5015]\n",
      " [  733 19707   384 ...     0     0     0]\n",
      " ...\n",
      " [   17  1370 13994 ...     0     0     0]\n",
      " [ 7317   949  4730 ...     0     0     0]\n",
      " [ 2166  4843   617 ...     0     0     0]] \n",
      "\n",
      "Maximum review length:  112\n"
     ]
    }
   ],
   "source": [
    "# ENCODE REVIEW\n",
    "token = Tokenizer(lower=False)    # no need lower, because already lowered the data in load_data()\n",
    "token.fit_on_texts(x_train)\n",
    "x_train = token.texts_to_sequences(x_train)\n",
    "x_test = token.texts_to_sequences(x_test)\n",
    "\n",
    "max_length = get_max_length()\n",
    "\n",
    "x_train = pad_sequences(x_train, maxlen=max_length, padding='post', truncating='post')\n",
    "x_test = pad_sequences(x_test, maxlen=max_length, padding='post', truncating='post')\n",
    "\n",
    "total_words = len(token.word_index) + 1   # add 1 because of 0 padding\n",
    "\n",
    "print('Encoded X Train\\n', x_train, '\\n')\n",
    "print('Encoded X Test\\n', x_test, '\\n')\n",
    "print('Maximum review length: ', max_length)"
   ]
  },
  {
   "cell_type": "code",
   "execution_count": 228,
   "metadata": {},
   "outputs": [
    {
     "data": {
      "text/plain": [
       "(8346, 112)"
      ]
     },
     "execution_count": 228,
     "metadata": {},
     "output_type": "execute_result"
    }
   ],
   "source": [
    "x_train.shape"
   ]
  },
  {
   "cell_type": "markdown",
   "metadata": {},
   "source": [
    "#### e) Creation of our model"
   ]
  },
  {
   "cell_type": "code",
   "execution_count": 258,
   "metadata": {},
   "outputs": [
    {
     "name": "stdout",
     "output_type": "stream",
     "text": [
      "Model: \"sequential_30\"\n",
      "_________________________________________________________________\n",
      "Layer (type)                 Output Shape              Param #   \n",
      "=================================================================\n",
      "embedding_26 (Embedding)     (None, 112, 32)           853184    \n",
      "_________________________________________________________________\n",
      "spatial_dropout1d_3 (Spatial (None, 112, 32)           0         \n",
      "_________________________________________________________________\n",
      "lstm_24 (LSTM)               (None, 128)               82432     \n",
      "_________________________________________________________________\n",
      "dense_82 (Dense)             (None, 23)                2967      \n",
      "=================================================================\n",
      "Total params: 938,583\n",
      "Trainable params: 938,583\n",
      "Non-trainable params: 0\n",
      "_________________________________________________________________\n",
      "None\n"
     ]
    }
   ],
   "source": [
    "from tensorflow.keras.layers import Flatten, Dense, Embedding, Conv1D, GlobalMaxPooling1D, SpatialDropout1D\n",
    "# ARCHITECTURE\n",
    "EMBED_DIM = 32\n",
    "LSTM_OUT = 64\n",
    "\n",
    "model = Sequential()\n",
    "model.add(Embedding(total_words, EMBED_DIM, input_length = max_length))\n",
    "model.add(SpatialDropout1D(0.2))\n",
    "model.add(LSTM(128, dropout=0.2, recurrent_dropout=0.2))\n",
    "#model.add(layers.Dropout(0.5))\n",
    "model.add(Dense(23, activation='sigmoid'))\n",
    "\n",
    "model.compile(optimizer = 'adam', loss = 'sparse_categorical_crossentropy', metrics = ['accuracy'])\n",
    "\n",
    "print(model.summary())"
   ]
  },
  {
   "cell_type": "code",
   "execution_count": 259,
   "metadata": {},
   "outputs": [
    {
     "name": "stdout",
     "output_type": "stream",
     "text": [
      "Epoch 1/10\n",
      "59/59 [==============================] - 18s 266ms/step - loss: 2.9513 - accuracy: 0.1578 - val_loss: 2.8157 - val_accuracy: 0.1641\n",
      "Epoch 2/10\n",
      "59/59 [==============================] - 16s 267ms/step - loss: 2.7694 - accuracy: 0.1760 - val_loss: 2.8011 - val_accuracy: 0.1641\n",
      "Epoch 3/10\n",
      "59/59 [==============================] - 16s 266ms/step - loss: 2.7547 - accuracy: 0.1847 - val_loss: 2.7919 - val_accuracy: 0.1737\n",
      "Epoch 4/10\n",
      "59/59 [==============================] - 16s 265ms/step - loss: 2.7363 - accuracy: 0.1946 - val_loss: 2.7882 - val_accuracy: 0.1593\n",
      "Epoch 5/10\n",
      "59/59 [==============================] - 16s 267ms/step - loss: 2.7049 - accuracy: 0.1974 - val_loss: 2.7824 - val_accuracy: 0.1665\n",
      "Epoch 6/10\n",
      "59/59 [==============================] - 16s 264ms/step - loss: 2.6742 - accuracy: 0.2125 - val_loss: 2.8326 - val_accuracy: 0.1317\n",
      "Epoch 7/10\n",
      "59/59 [==============================] - 16s 269ms/step - loss: 2.5854 - accuracy: 0.2252 - val_loss: 2.6524 - val_accuracy: 0.1928\n",
      "Epoch 8/10\n",
      "59/59 [==============================] - 16s 272ms/step - loss: 2.4435 - accuracy: 0.2612 - val_loss: 2.7232 - val_accuracy: 0.1988\n",
      "Epoch 9/10\n",
      "59/59 [==============================] - 16s 272ms/step - loss: 2.3297 - accuracy: 0.2941 - val_loss: 2.6097 - val_accuracy: 0.2431\n",
      "Epoch 10/10\n",
      "59/59 [==============================] - 16s 273ms/step - loss: 2.2444 - accuracy: 0.3305 - val_loss: 2.6555 - val_accuracy: 0.2479\n"
     ]
    }
   ],
   "source": [
    "history = model.fit(x_train, y_train, batch_size = 128, epochs = 10, validation_data = (x_test, y_test), validation_split = 0.1, callbacks=[keras.callbacks.EarlyStopping(monitor='val_loss', patience=3, min_delta=0.0001)],verbose = 1)"
   ]
  },
  {
   "cell_type": "code",
   "execution_count": 260,
   "metadata": {},
   "outputs": [
    {
     "name": "stdout",
     "output_type": "stream",
     "text": [
      "Correct Prediction: 521\n",
      "Wrong Prediction: 1566\n",
      "Accuracy: 24.96406324868232\n",
      "Diff zero: 2087\n"
     ]
    }
   ],
   "source": [
    "y_pred = model.predict_classes(x_test, batch_size = 128)\n",
    "zero = 0\n",
    "\n",
    "true = 0\n",
    "for i, y in enumerate(y_test):\n",
    "    if y == y_pred[i]:\n",
    "        true += 1\n",
    "    if 1 != y_pred[i]:\n",
    "            zero += 1\n",
    "\n",
    "print('Correct Prediction: {}'.format(true))\n",
    "print('Wrong Prediction: {}'.format(len(y_pred) - true))\n",
    "print('Accuracy: {}'.format(true/len(y_pred)*100))\n",
    "print('Diff zero: {}'.format(zero))"
   ]
  },
  {
   "cell_type": "code",
   "execution_count": 261,
   "metadata": {},
   "outputs": [
    {
     "data": {
      "image/png": "[encoded data removed]",
      "text/plain": [
       "<Figure size 432x288 with 1 Axes>"
      ]
     },
     "metadata": {
      "needs_background": "light"
     },
     "output_type": "display_data"
    }
   ],
   "source": [
    "# Training and validation loss\n",
    "history_dict = history.history\n",
    "\n",
    "acc = history_dict['accuracy']\n",
    "val_acc = history_dict['val_accuracy']\n",
    "loss = history_dict['loss']\n",
    "val_loss = history_dict['val_loss']\n",
    "\n",
    "epochs = range(1, len(acc) + 1)\n",
    "\n",
    "# \"bo\" is for \"blue dot\"\n",
    "plt.plot(epochs, loss, 'bo', label='Training loss')\n",
    "# b is for \"solid blue line\"\n",
    "plt.plot(epochs, val_loss, 'b', label='Validation loss')\n",
    "plt.title('Training and validation loss')\n",
    "plt.xlabel('Epochs')\n",
    "plt.ylabel('Loss')\n",
    "plt.legend()\n",
    "\n",
    "plt.show()\n"
   ]
  },
  {
   "cell_type": "code",
   "execution_count": 262,
   "metadata": {},
   "outputs": [
    {
     "data": {
      "image/png": "[encoded data removed]",
      "text/plain": [
       "<Figure size 432x288 with 1 Axes>"
      ]
     },
     "metadata": {
      "needs_background": "light"
     },
     "output_type": "display_data"
    }
   ],
   "source": [
    "# Training and validation accuracy\n",
    "plt.plot(epochs, acc, 'bo', label='Training acc')\n",
    "plt.plot(epochs, val_acc, 'b', label='Validation acc')\n",
    "plt.title('Training and validation accuracy')\n",
    "plt.xlabel('Epochs')\n",
    "plt.ylabel('Accuracy')\n",
    "plt.legend(loc='lower right')\n",
    "\n",
    "plt.show()"
   ]
  },
  {
   "cell_type": "markdown",
   "metadata": {},
   "source": [
    "### With the full data set"
   ]
  },
  {
   "cell_type": "code",
   "execution_count": 247,
   "metadata": {},
   "outputs": [],
   "source": [
    "# First we import the dataset of the global data\n",
    "cwd = os.getcwd()\n",
    "data_dir = cwd + \"/ohsumed-all\"\n",
    "data, words = get_info(data_dir)"
   ]
  }
 ],
 "metadata": {
  "kernelspec": {
   "display_name": "Python 3",
   "language": "python",
   "name": "python3"
  },
  "language_info": {
   "codemirror_mode": {
    "name": "ipython",
    "version": 3
   },
   "file_extension": ".py",
   "mimetype": "text/x-python",
   "name": "python",
   "nbconvert_exporter": "python",
   "pygments_lexer": "ipython3",
   "version": "3.8.5"
  }
 },
 "nbformat": 4,
 "nbformat_minor": 4
}
