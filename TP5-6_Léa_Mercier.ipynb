{
 "cells": [
  {
   "cell_type": "markdown",
   "metadata": {},
   "source": [
    "# Exercise 1 : the MNIST dataset"
   ]
  },
  {
   "cell_type": "code",
   "execution_count": 1,
   "metadata": {},
   "outputs": [],
   "source": [
    "import keras\n",
    "from keras.datasets import mnist\n",
    "from keras import backend as K\n",
    "from matplotlib import pyplot as plt\n",
    "from sklearn.model_selection import train_test_split \n",
    "import numpy as np"
   ]
  },
  {
   "cell_type": "code",
   "execution_count": 2,
   "metadata": {},
   "outputs": [],
   "source": [
    "# input image dimensions are known\n",
    "img_rows, img_cols = 28, 28\n",
    "\n",
    "num_classes = 10\n",
    "batch_size = 128\n",
    "epochs = 12"
   ]
  },
  {
   "cell_type": "code",
   "execution_count": 3,
   "metadata": {},
   "outputs": [],
   "source": [
    "# load mnist dataset (available as a part of your Keras installation)\n",
    "mnist = keras.datasets.mnist\n",
    "(x_train, y_train), (x_test, y_test) = mnist.load_data()"
   ]
  },
  {
   "cell_type": "code",
   "execution_count": 4,
   "metadata": {},
   "outputs": [
    {
     "name": "stdout",
     "output_type": "stream",
     "text": [
      "x_train:  [[[0 0 0 ... 0 0 0]\n",
      "  [0 0 0 ... 0 0 0]\n",
      "  [0 0 0 ... 0 0 0]\n",
      "  ...\n",
      "  [0 0 0 ... 0 0 0]\n",
      "  [0 0 0 ... 0 0 0]\n",
      "  [0 0 0 ... 0 0 0]]\n",
      "\n",
      " [[0 0 0 ... 0 0 0]\n",
      "  [0 0 0 ... 0 0 0]\n",
      "  [0 0 0 ... 0 0 0]\n",
      "  ...\n",
      "  [0 0 0 ... 0 0 0]\n",
      "  [0 0 0 ... 0 0 0]\n",
      "  [0 0 0 ... 0 0 0]]\n",
      "\n",
      " [[0 0 0 ... 0 0 0]\n",
      "  [0 0 0 ... 0 0 0]\n",
      "  [0 0 0 ... 0 0 0]\n",
      "  ...\n",
      "  [0 0 0 ... 0 0 0]\n",
      "  [0 0 0 ... 0 0 0]\n",
      "  [0 0 0 ... 0 0 0]]\n",
      "\n",
      " ...\n",
      "\n",
      " [[0 0 0 ... 0 0 0]\n",
      "  [0 0 0 ... 0 0 0]\n",
      "  [0 0 0 ... 0 0 0]\n",
      "  ...\n",
      "  [0 0 0 ... 0 0 0]\n",
      "  [0 0 0 ... 0 0 0]\n",
      "  [0 0 0 ... 0 0 0]]\n",
      "\n",
      " [[0 0 0 ... 0 0 0]\n",
      "  [0 0 0 ... 0 0 0]\n",
      "  [0 0 0 ... 0 0 0]\n",
      "  ...\n",
      "  [0 0 0 ... 0 0 0]\n",
      "  [0 0 0 ... 0 0 0]\n",
      "  [0 0 0 ... 0 0 0]]\n",
      "\n",
      " [[0 0 0 ... 0 0 0]\n",
      "  [0 0 0 ... 0 0 0]\n",
      "  [0 0 0 ... 0 0 0]\n",
      "  ...\n",
      "  [0 0 0 ... 0 0 0]\n",
      "  [0 0 0 ... 0 0 0]\n",
      "  [0 0 0 ... 0 0 0]]]\n",
      "x_test:  [[[0 0 0 ... 0 0 0]\n",
      "  [0 0 0 ... 0 0 0]\n",
      "  [0 0 0 ... 0 0 0]\n",
      "  ...\n",
      "  [0 0 0 ... 0 0 0]\n",
      "  [0 0 0 ... 0 0 0]\n",
      "  [0 0 0 ... 0 0 0]]\n",
      "\n",
      " [[0 0 0 ... 0 0 0]\n",
      "  [0 0 0 ... 0 0 0]\n",
      "  [0 0 0 ... 0 0 0]\n",
      "  ...\n",
      "  [0 0 0 ... 0 0 0]\n",
      "  [0 0 0 ... 0 0 0]\n",
      "  [0 0 0 ... 0 0 0]]\n",
      "\n",
      " [[0 0 0 ... 0 0 0]\n",
      "  [0 0 0 ... 0 0 0]\n",
      "  [0 0 0 ... 0 0 0]\n",
      "  ...\n",
      "  [0 0 0 ... 0 0 0]\n",
      "  [0 0 0 ... 0 0 0]\n",
      "  [0 0 0 ... 0 0 0]]\n",
      "\n",
      " ...\n",
      "\n",
      " [[0 0 0 ... 0 0 0]\n",
      "  [0 0 0 ... 0 0 0]\n",
      "  [0 0 0 ... 0 0 0]\n",
      "  ...\n",
      "  [0 0 0 ... 0 0 0]\n",
      "  [0 0 0 ... 0 0 0]\n",
      "  [0 0 0 ... 0 0 0]]\n",
      "\n",
      " [[0 0 0 ... 0 0 0]\n",
      "  [0 0 0 ... 0 0 0]\n",
      "  [0 0 0 ... 0 0 0]\n",
      "  ...\n",
      "  [0 0 0 ... 0 0 0]\n",
      "  [0 0 0 ... 0 0 0]\n",
      "  [0 0 0 ... 0 0 0]]\n",
      "\n",
      " [[0 0 0 ... 0 0 0]\n",
      "  [0 0 0 ... 0 0 0]\n",
      "  [0 0 0 ... 0 0 0]\n",
      "  ...\n",
      "  [0 0 0 ... 0 0 0]\n",
      "  [0 0 0 ... 0 0 0]\n",
      "  [0 0 0 ... 0 0 0]]]\n",
      "y_train:  [5 0 4 ... 5 6 8]\n",
      "y_test:  [7 2 1 ... 4 5 6]\n",
      "x_train size:  47040000\n",
      "x_train len:  60000\n",
      "y_train len:  60000\n",
      "x_test len:  10000\n",
      "y_test len:  10000\n",
      "x_test size:  7840000\n"
     ]
    }
   ],
   "source": [
    "# visualize some data\n",
    "print('x_train: ',x_train)\n",
    "print('x_test: ',x_test)\n",
    "print('y_train: ',y_train)\n",
    "print('y_test: ',y_test)\n",
    "print('x_train size: ',x_train.size)\n",
    "print('x_train len: ',len(x_train))\n",
    "print('y_train len: ',len(y_train))\n",
    "print('x_test len: ',len(x_test))\n",
    "print('y_test len: ',len(y_test))\n",
    "print('x_test size: ',x_test.size)"
   ]
  },
  {
   "cell_type": "code",
   "execution_count": 5,
   "metadata": {},
   "outputs": [],
   "source": [
    "# reshape the data arrays to have a single channel. default mode : channel_last\n",
    "if K.image_data_format() == 'channels_first':\n",
    "    x_train = x_train.reshape(x_train.shape[0], 1, img_rows, img_cols)\n",
    "    x_test = x_test.reshape(x_test.shape[0], 1, img_rows, img_cols)\n",
    "    input_shape = (1, img_rows, img_cols)\n",
    "else:\n",
    "    x_train = x_train.reshape(x_train.shape[0], img_rows, img_cols, 1)\n",
    "    x_test = x_test.reshape(x_test.shape[0], img_rows, img_cols, 1)\n",
    "    input_shape = (img_rows, img_cols, 1)"
   ]
  },
  {
   "cell_type": "code",
   "execution_count": 6,
   "metadata": {},
   "outputs": [],
   "source": [
    "# normalize the pixel values: rescale them to the range [0,1]\n",
    "\n",
    "# i) convert the data type from unsigned integers to float32 \n",
    "\n",
    "x_train = x_train.astype('float32')\n",
    "#y_train = y_train.astype('float32')\n",
    "x_test = x_test.astype('float32')\n",
    "#y_test = y_test.astype('float32')\n",
    "\n",
    "# ii) divide the pixel values by the max intensity value\n",
    "\n",
    "# b = np.linalg.norm(x_train) #to get the norme of x_train\n",
    "maxIVxt = np.amax(x_train)# get the maximal value of x_train\n",
    "#for x in x_train:\n",
    "#    x = x/maxIVxt\n",
    "x_train = (x_train/maxIVxt)\n",
    "\n",
    "maxIVxt = np.amax(x_test)# get the maximal value of x_test\n",
    "#for x in x_test:\n",
    "#    x = x/maxIVxt\n",
    "\n",
    "x_test = (x_test/maxIVxt)"
   ]
  },
  {
   "cell_type": "code",
   "execution_count": 10,
   "metadata": {},
   "outputs": [
    {
     "name": "stdout",
     "output_type": "stream",
     "text": [
      "[[[[1. 0.]\n",
      "   [1. 0.]\n",
      "   [1. 0.]\n",
      "   ...\n",
      "   [1. 0.]\n",
      "   [1. 0.]\n",
      "   [1. 0.]]\n",
      "\n",
      "  [[1. 0.]\n",
      "   [1. 0.]\n",
      "   [1. 0.]\n",
      "   ...\n",
      "   [1. 0.]\n",
      "   [1. 0.]\n",
      "   [1. 0.]]\n",
      "\n",
      "  [[1. 0.]\n",
      "   [1. 0.]\n",
      "   [1. 0.]\n",
      "   ...\n",
      "   [1. 0.]\n",
      "   [1. 0.]\n",
      "   [1. 0.]]\n",
      "\n",
      "  ...\n",
      "\n",
      "  [[1. 0.]\n",
      "   [1. 0.]\n",
      "   [1. 0.]\n",
      "   ...\n",
      "   [1. 0.]\n",
      "   [1. 0.]\n",
      "   [1. 0.]]\n",
      "\n",
      "  [[1. 0.]\n",
      "   [1. 0.]\n",
      "   [1. 0.]\n",
      "   ...\n",
      "   [1. 0.]\n",
      "   [1. 0.]\n",
      "   [1. 0.]]\n",
      "\n",
      "  [[1. 0.]\n",
      "   [1. 0.]\n",
      "   [1. 0.]\n",
      "   ...\n",
      "   [1. 0.]\n",
      "   [1. 0.]\n",
      "   [1. 0.]]]\n",
      "\n",
      "\n",
      " [[[1. 0.]\n",
      "   [1. 0.]\n",
      "   [1. 0.]\n",
      "   ...\n",
      "   [1. 0.]\n",
      "   [1. 0.]\n",
      "   [1. 0.]]\n",
      "\n",
      "  [[1. 0.]\n",
      "   [1. 0.]\n",
      "   [1. 0.]\n",
      "   ...\n",
      "   [1. 0.]\n",
      "   [1. 0.]\n",
      "   [1. 0.]]\n",
      "\n",
      "  [[1. 0.]\n",
      "   [1. 0.]\n",
      "   [1. 0.]\n",
      "   ...\n",
      "   [1. 0.]\n",
      "   [1. 0.]\n",
      "   [1. 0.]]\n",
      "\n",
      "  ...\n",
      "\n",
      "  [[1. 0.]\n",
      "   [1. 0.]\n",
      "   [1. 0.]\n",
      "   ...\n",
      "   [1. 0.]\n",
      "   [1. 0.]\n",
      "   [1. 0.]]\n",
      "\n",
      "  [[1. 0.]\n",
      "   [1. 0.]\n",
      "   [1. 0.]\n",
      "   ...\n",
      "   [1. 0.]\n",
      "   [1. 0.]\n",
      "   [1. 0.]]\n",
      "\n",
      "  [[1. 0.]\n",
      "   [1. 0.]\n",
      "   [1. 0.]\n",
      "   ...\n",
      "   [1. 0.]\n",
      "   [1. 0.]\n",
      "   [1. 0.]]]\n",
      "\n",
      "\n",
      " [[[1. 0.]\n",
      "   [1. 0.]\n",
      "   [1. 0.]\n",
      "   ...\n",
      "   [1. 0.]\n",
      "   [1. 0.]\n",
      "   [1. 0.]]\n",
      "\n",
      "  [[1. 0.]\n",
      "   [1. 0.]\n",
      "   [1. 0.]\n",
      "   ...\n",
      "   [1. 0.]\n",
      "   [1. 0.]\n",
      "   [1. 0.]]\n",
      "\n",
      "  [[1. 0.]\n",
      "   [1. 0.]\n",
      "   [1. 0.]\n",
      "   ...\n",
      "   [1. 0.]\n",
      "   [1. 0.]\n",
      "   [1. 0.]]\n",
      "\n",
      "  ...\n",
      "\n",
      "  [[1. 0.]\n",
      "   [1. 0.]\n",
      "   [1. 0.]\n",
      "   ...\n",
      "   [1. 0.]\n",
      "   [1. 0.]\n",
      "   [1. 0.]]\n",
      "\n",
      "  [[1. 0.]\n",
      "   [1. 0.]\n",
      "   [1. 0.]\n",
      "   ...\n",
      "   [1. 0.]\n",
      "   [1. 0.]\n",
      "   [1. 0.]]\n",
      "\n",
      "  [[1. 0.]\n",
      "   [1. 0.]\n",
      "   [1. 0.]\n",
      "   ...\n",
      "   [1. 0.]\n",
      "   [1. 0.]\n",
      "   [1. 0.]]]\n",
      "\n",
      "\n",
      " ...\n",
      "\n",
      "\n",
      " [[[1. 0.]\n",
      "   [1. 0.]\n",
      "   [1. 0.]\n",
      "   ...\n",
      "   [1. 0.]\n",
      "   [1. 0.]\n",
      "   [1. 0.]]\n",
      "\n",
      "  [[1. 0.]\n",
      "   [1. 0.]\n",
      "   [1. 0.]\n",
      "   ...\n",
      "   [1. 0.]\n",
      "   [1. 0.]\n",
      "   [1. 0.]]\n",
      "\n",
      "  [[1. 0.]\n",
      "   [1. 0.]\n",
      "   [1. 0.]\n",
      "   ...\n",
      "   [1. 0.]\n",
      "   [1. 0.]\n",
      "   [1. 0.]]\n",
      "\n",
      "  ...\n",
      "\n",
      "  [[1. 0.]\n",
      "   [1. 0.]\n",
      "   [1. 0.]\n",
      "   ...\n",
      "   [1. 0.]\n",
      "   [1. 0.]\n",
      "   [1. 0.]]\n",
      "\n",
      "  [[1. 0.]\n",
      "   [1. 0.]\n",
      "   [1. 0.]\n",
      "   ...\n",
      "   [1. 0.]\n",
      "   [1. 0.]\n",
      "   [1. 0.]]\n",
      "\n",
      "  [[1. 0.]\n",
      "   [1. 0.]\n",
      "   [1. 0.]\n",
      "   ...\n",
      "   [1. 0.]\n",
      "   [1. 0.]\n",
      "   [1. 0.]]]\n",
      "\n",
      "\n",
      " [[[1. 0.]\n",
      "   [1. 0.]\n",
      "   [1. 0.]\n",
      "   ...\n",
      "   [1. 0.]\n",
      "   [1. 0.]\n",
      "   [1. 0.]]\n",
      "\n",
      "  [[1. 0.]\n",
      "   [1. 0.]\n",
      "   [1. 0.]\n",
      "   ...\n",
      "   [1. 0.]\n",
      "   [1. 0.]\n",
      "   [1. 0.]]\n",
      "\n",
      "  [[1. 0.]\n",
      "   [1. 0.]\n",
      "   [1. 0.]\n",
      "   ...\n",
      "   [1. 0.]\n",
      "   [1. 0.]\n",
      "   [1. 0.]]\n",
      "\n",
      "  ...\n",
      "\n",
      "  [[1. 0.]\n",
      "   [1. 0.]\n",
      "   [1. 0.]\n",
      "   ...\n",
      "   [1. 0.]\n",
      "   [1. 0.]\n",
      "   [1. 0.]]\n",
      "\n",
      "  [[1. 0.]\n",
      "   [1. 0.]\n",
      "   [1. 0.]\n",
      "   ...\n",
      "   [1. 0.]\n",
      "   [1. 0.]\n",
      "   [1. 0.]]\n",
      "\n",
      "  [[1. 0.]\n",
      "   [1. 0.]\n",
      "   [1. 0.]\n",
      "   ...\n",
      "   [1. 0.]\n",
      "   [1. 0.]\n",
      "   [1. 0.]]]\n",
      "\n",
      "\n",
      " [[[1. 0.]\n",
      "   [1. 0.]\n",
      "   [1. 0.]\n",
      "   ...\n",
      "   [1. 0.]\n",
      "   [1. 0.]\n",
      "   [1. 0.]]\n",
      "\n",
      "  [[1. 0.]\n",
      "   [1. 0.]\n",
      "   [1. 0.]\n",
      "   ...\n",
      "   [1. 0.]\n",
      "   [1. 0.]\n",
      "   [1. 0.]]\n",
      "\n",
      "  [[1. 0.]\n",
      "   [1. 0.]\n",
      "   [1. 0.]\n",
      "   ...\n",
      "   [1. 0.]\n",
      "   [1. 0.]\n",
      "   [1. 0.]]\n",
      "\n",
      "  ...\n",
      "\n",
      "  [[1. 0.]\n",
      "   [1. 0.]\n",
      "   [1. 0.]\n",
      "   ...\n",
      "   [1. 0.]\n",
      "   [1. 0.]\n",
      "   [1. 0.]]\n",
      "\n",
      "  [[1. 0.]\n",
      "   [1. 0.]\n",
      "   [1. 0.]\n",
      "   ...\n",
      "   [1. 0.]\n",
      "   [1. 0.]\n",
      "   [1. 0.]]\n",
      "\n",
      "  [[1. 0.]\n",
      "   [1. 0.]\n",
      "   [1. 0.]\n",
      "   ...\n",
      "   [1. 0.]\n",
      "   [1. 0.]\n",
      "   [1. 0.]]]]\n",
      "[[[[1. 0.]\n",
      "   [1. 0.]\n",
      "   [1. 0.]\n",
      "   ...\n",
      "   [1. 0.]\n",
      "   [1. 0.]\n",
      "   [1. 0.]]\n",
      "\n",
      "  [[1. 0.]\n",
      "   [1. 0.]\n",
      "   [1. 0.]\n",
      "   ...\n",
      "   [1. 0.]\n",
      "   [1. 0.]\n",
      "   [1. 0.]]\n",
      "\n",
      "  [[1. 0.]\n",
      "   [1. 0.]\n",
      "   [1. 0.]\n",
      "   ...\n",
      "   [1. 0.]\n",
      "   [1. 0.]\n",
      "   [1. 0.]]\n",
      "\n",
      "  ...\n",
      "\n",
      "  [[1. 0.]\n",
      "   [1. 0.]\n",
      "   [1. 0.]\n",
      "   ...\n",
      "   [1. 0.]\n",
      "   [1. 0.]\n",
      "   [1. 0.]]\n",
      "\n",
      "  [[1. 0.]\n",
      "   [1. 0.]\n",
      "   [1. 0.]\n",
      "   ...\n",
      "   [1. 0.]\n",
      "   [1. 0.]\n",
      "   [1. 0.]]\n",
      "\n",
      "  [[1. 0.]\n",
      "   [1. 0.]\n",
      "   [1. 0.]\n",
      "   ...\n",
      "   [1. 0.]\n",
      "   [1. 0.]\n",
      "   [1. 0.]]]\n",
      "\n",
      "\n",
      " [[[1. 0.]\n",
      "   [1. 0.]\n",
      "   [1. 0.]\n",
      "   ...\n",
      "   [1. 0.]\n",
      "   [1. 0.]\n",
      "   [1. 0.]]\n",
      "\n",
      "  [[1. 0.]\n",
      "   [1. 0.]\n",
      "   [1. 0.]\n",
      "   ...\n",
      "   [1. 0.]\n",
      "   [1. 0.]\n",
      "   [1. 0.]]\n",
      "\n",
      "  [[1. 0.]\n",
      "   [1. 0.]\n",
      "   [1. 0.]\n",
      "   ...\n",
      "   [1. 0.]\n",
      "   [1. 0.]\n",
      "   [1. 0.]]\n",
      "\n",
      "  ...\n",
      "\n",
      "  [[1. 0.]\n",
      "   [1. 0.]\n",
      "   [1. 0.]\n",
      "   ...\n",
      "   [1. 0.]\n",
      "   [1. 0.]\n",
      "   [1. 0.]]\n",
      "\n",
      "  [[1. 0.]\n",
      "   [1. 0.]\n",
      "   [1. 0.]\n",
      "   ...\n",
      "   [1. 0.]\n",
      "   [1. 0.]\n",
      "   [1. 0.]]\n",
      "\n",
      "  [[1. 0.]\n",
      "   [1. 0.]\n",
      "   [1. 0.]\n",
      "   ...\n",
      "   [1. 0.]\n",
      "   [1. 0.]\n",
      "   [1. 0.]]]\n",
      "\n",
      "\n",
      " [[[1. 0.]\n",
      "   [1. 0.]\n",
      "   [1. 0.]\n",
      "   ...\n",
      "   [1. 0.]\n",
      "   [1. 0.]\n",
      "   [1. 0.]]\n",
      "\n",
      "  [[1. 0.]\n",
      "   [1. 0.]\n",
      "   [1. 0.]\n",
      "   ...\n",
      "   [1. 0.]\n",
      "   [1. 0.]\n",
      "   [1. 0.]]\n",
      "\n",
      "  [[1. 0.]\n",
      "   [1. 0.]\n",
      "   [1. 0.]\n",
      "   ...\n",
      "   [1. 0.]\n",
      "   [1. 0.]\n",
      "   [1. 0.]]\n",
      "\n",
      "  ...\n",
      "\n",
      "  [[1. 0.]\n",
      "   [1. 0.]\n",
      "   [1. 0.]\n",
      "   ...\n",
      "   [1. 0.]\n",
      "   [1. 0.]\n",
      "   [1. 0.]]\n",
      "\n",
      "  [[1. 0.]\n",
      "   [1. 0.]\n",
      "   [1. 0.]\n",
      "   ...\n",
      "   [1. 0.]\n",
      "   [1. 0.]\n",
      "   [1. 0.]]\n",
      "\n",
      "  [[1. 0.]\n",
      "   [1. 0.]\n",
      "   [1. 0.]\n",
      "   ...\n",
      "   [1. 0.]\n",
      "   [1. 0.]\n",
      "   [1. 0.]]]\n",
      "\n",
      "\n",
      " ...\n",
      "\n",
      "\n",
      " [[[1. 0.]\n",
      "   [1. 0.]\n",
      "   [1. 0.]\n",
      "   ...\n",
      "   [1. 0.]\n",
      "   [1. 0.]\n",
      "   [1. 0.]]\n",
      "\n",
      "  [[1. 0.]\n",
      "   [1. 0.]\n",
      "   [1. 0.]\n",
      "   ...\n",
      "   [1. 0.]\n",
      "   [1. 0.]\n",
      "   [1. 0.]]\n",
      "\n",
      "  [[1. 0.]\n",
      "   [1. 0.]\n",
      "   [1. 0.]\n",
      "   ...\n",
      "   [1. 0.]\n",
      "   [1. 0.]\n",
      "   [1. 0.]]\n",
      "\n",
      "  ...\n",
      "\n",
      "  [[1. 0.]\n",
      "   [1. 0.]\n",
      "   [1. 0.]\n",
      "   ...\n",
      "   [1. 0.]\n",
      "   [1. 0.]\n",
      "   [1. 0.]]\n",
      "\n",
      "  [[1. 0.]\n",
      "   [1. 0.]\n",
      "   [1. 0.]\n",
      "   ...\n",
      "   [1. 0.]\n",
      "   [1. 0.]\n",
      "   [1. 0.]]\n",
      "\n",
      "  [[1. 0.]\n",
      "   [1. 0.]\n",
      "   [1. 0.]\n",
      "   ...\n",
      "   [1. 0.]\n",
      "   [1. 0.]\n",
      "   [1. 0.]]]\n",
      "\n",
      "\n",
      " [[[1. 0.]\n",
      "   [1. 0.]\n",
      "   [1. 0.]\n",
      "   ...\n",
      "   [1. 0.]\n",
      "   [1. 0.]\n",
      "   [1. 0.]]\n",
      "\n",
      "  [[1. 0.]\n",
      "   [1. 0.]\n",
      "   [1. 0.]\n",
      "   ...\n",
      "   [1. 0.]\n",
      "   [1. 0.]\n",
      "   [1. 0.]]\n",
      "\n",
      "  [[1. 0.]\n",
      "   [1. 0.]\n",
      "   [1. 0.]\n",
      "   ...\n",
      "   [1. 0.]\n",
      "   [1. 0.]\n",
      "   [1. 0.]]\n",
      "\n",
      "  ...\n",
      "\n",
      "  [[1. 0.]\n",
      "   [1. 0.]\n",
      "   [1. 0.]\n",
      "   ...\n",
      "   [1. 0.]\n",
      "   [1. 0.]\n",
      "   [1. 0.]]\n",
      "\n",
      "  [[1. 0.]\n",
      "   [1. 0.]\n",
      "   [1. 0.]\n",
      "   ...\n",
      "   [1. 0.]\n",
      "   [1. 0.]\n",
      "   [1. 0.]]\n",
      "\n",
      "  [[1. 0.]\n",
      "   [1. 0.]\n",
      "   [1. 0.]\n",
      "   ...\n",
      "   [1. 0.]\n",
      "   [1. 0.]\n",
      "   [1. 0.]]]\n",
      "\n",
      "\n",
      " [[[1. 0.]\n",
      "   [1. 0.]\n",
      "   [1. 0.]\n",
      "   ...\n",
      "   [1. 0.]\n",
      "   [1. 0.]\n",
      "   [1. 0.]]\n",
      "\n",
      "  [[1. 0.]\n",
      "   [1. 0.]\n",
      "   [1. 0.]\n",
      "   ...\n",
      "   [1. 0.]\n",
      "   [1. 0.]\n",
      "   [1. 0.]]\n",
      "\n",
      "  [[1. 0.]\n",
      "   [1. 0.]\n",
      "   [1. 0.]\n",
      "   ...\n",
      "   [1. 0.]\n",
      "   [1. 0.]\n",
      "   [1. 0.]]\n",
      "\n",
      "  ...\n",
      "\n",
      "  [[1. 0.]\n",
      "   [1. 0.]\n",
      "   [1. 0.]\n",
      "   ...\n",
      "   [1. 0.]\n",
      "   [1. 0.]\n",
      "   [1. 0.]]\n",
      "\n",
      "  [[1. 0.]\n",
      "   [1. 0.]\n",
      "   [1. 0.]\n",
      "   ...\n",
      "   [1. 0.]\n",
      "   [1. 0.]\n",
      "   [1. 0.]]\n",
      "\n",
      "  [[1. 0.]\n",
      "   [1. 0.]\n",
      "   [1. 0.]\n",
      "   ...\n",
      "   [1. 0.]\n",
      "   [1. 0.]\n",
      "   [1. 0.]]]]\n"
     ]
    }
   ],
   "source": [
    "# convert class vectors to binary class matrices using keras.utils.to_categorical\n",
    "x_train = keras.utils.to_categorical(x_train, dtype = \"float32\")\n",
    "x_test = keras.utils.to_categorical(x_test, dtype = \"float32\")\n",
    "print(x_train)\n",
    "print(x_test)"
   ]
  },
  {
   "cell_type": "code",
   "execution_count": 11,
   "metadata": {},
   "outputs": [
    {
     "name": "stdout",
     "output_type": "stream",
     "text": [
      "Model: \"sequential\"\n",
      "_________________________________________________________________\n",
      "Layer (type)                 Output Shape              Param #   \n",
      "=================================================================\n",
      "conv2d (Conv2D)              (None, 26, 26, 32)        608       \n",
      "_________________________________________________________________\n",
      "conv2d_1 (Conv2D)            (None, 24, 24, 64)        18496     \n",
      "_________________________________________________________________\n",
      "max_pooling2d (MaxPooling2D) (None, 12, 12, 64)        0         \n",
      "_________________________________________________________________\n",
      "dropout (Dropout)            (None, 12, 12, 64)        0         \n",
      "_________________________________________________________________\n",
      "flatten (Flatten)            (None, 9216)              0         \n",
      "_________________________________________________________________\n",
      "dense (Dense)                (None, 128)               1179776   \n",
      "_________________________________________________________________\n",
      "dropout_1 (Dropout)          (None, 128)               0         \n",
      "_________________________________________________________________\n",
      "dense_1 (Dense)              (None, 10)                1290      \n",
      "=================================================================\n",
      "Total params: 1,200,170\n",
      "Trainable params: 1,200,170\n",
      "Non-trainable params: 0\n",
      "_________________________________________________________________\n"
     ]
    }
   ],
   "source": [
    "# a baseline CNN\n",
    "from keras.models import Sequential\n",
    "from keras.layers import Dense, Dropout, Flatten\n",
    "from keras.layers import Conv2D\n",
    "from keras.layers import MaxPooling2D\n",
    "\n",
    "model = Sequential()\n",
    "#model.add(Dense)\n",
    "model.add(Conv2D(32, kernel_size=(3, 3),\n",
    "                 activation='relu',\n",
    "                 input_shape=input_shape))\n",
    "model.add(Conv2D(64, (3, 3), activation='relu'))\n",
    "model.add(MaxPooling2D(pool_size=(2, 2)))\n",
    "model.add(Dropout(0.25))\n",
    "model.add(Flatten())\n",
    "model.add(Dense(128, activation='relu'))\n",
    "model.add(Dropout(0.5))\n",
    "model.add(Dense(num_classes, activation='softmax'))\n",
    "\n",
    "model.summary()"
   ]
  },
  {
   "cell_type": "code",
   "execution_count": 12,
   "metadata": {},
   "outputs": [
    {
     "name": "stdout",
     "output_type": "stream",
     "text": [
      "float32\n",
      "4\n",
      "(60000, 28, 28, 2)\n"
     ]
    }
   ],
   "source": [
    "# compile the model using model.compile() with loss : categorical crossentropy, optimizer : adadelta, metrics : accuracy\n",
    "\n",
    "model.compile(optimizer = 'adadelta', loss = \"categorical_crossentropy\", metrics = ['accuracy'])\n",
    "\n",
    "print(x_train.dtype)\n",
    "print(x_train.ndim)\n",
    "print(x_train.shape)"
   ]
  },
  {
   "cell_type": "code",
   "execution_count": 13,
   "metadata": {},
   "outputs": [
    {
     "name": "stdout",
     "output_type": "stream",
     "text": [
      "x_train len:  60000\n",
      "y_train len:  60000\n",
      "x_test len:  10000\n",
      "y_test len:  10000\n"
     ]
    }
   ],
   "source": [
    "y_train = keras.utils.to_categorical(y_train)\n",
    "y_test = keras.utils.to_categorical(y_test)\n",
    "print('x_train len: ',len(x_train))\n",
    "print('y_train len: ',len(y_train))\n",
    "print('x_test len: ',len(x_test))\n",
    "print('y_test len: ',len(y_test))"
   ]
  },
  {
   "cell_type": "code",
   "execution_count": 14,
   "metadata": {},
   "outputs": [
    {
     "name": "stdout",
     "output_type": "stream",
     "text": [
      "Epoch 1/12\n",
      "469/469 [==============================] - 35s 73ms/step - loss: 2.3120 - accuracy: 0.0995 - val_loss: 2.3005 - val_accuracy: 0.1229\n",
      "Epoch 2/12\n",
      "469/469 [==============================] - 35s 74ms/step - loss: 2.3067 - accuracy: 0.1035 - val_loss: 2.2985 - val_accuracy: 0.1222\n",
      "Epoch 3/12\n",
      "469/469 [==============================] - 35s 74ms/step - loss: 2.3033 - accuracy: 0.1077 - val_loss: 2.2971 - val_accuracy: 0.1230\n",
      "Epoch 4/12\n",
      "469/469 [==============================] - 35s 74ms/step - loss: 2.3016 - accuracy: 0.1135 - val_loss: 2.2958 - val_accuracy: 0.1223\n",
      "Epoch 5/12\n",
      "469/469 [==============================] - 35s 76ms/step - loss: 2.3001 - accuracy: 0.1123 - val_loss: 2.2946 - val_accuracy: 0.1228\n",
      "Epoch 6/12\n",
      "469/469 [==============================] - 35s 74ms/step - loss: 2.2989 - accuracy: 0.1184 - val_loss: 2.2936 - val_accuracy: 0.1234\n",
      "Epoch 7/12\n",
      "469/469 [==============================] - 35s 74ms/step - loss: 2.2981 - accuracy: 0.1199 - val_loss: 2.2927 - val_accuracy: 0.1245\n",
      "Epoch 8/12\n",
      "469/469 [==============================] - 35s 75ms/step - loss: 2.2971 - accuracy: 0.1214 - val_loss: 2.2916 - val_accuracy: 0.1251\n",
      "Epoch 9/12\n",
      "469/469 [==============================] - 35s 75ms/step - loss: 2.2951 - accuracy: 0.1258 - val_loss: 2.2905 - val_accuracy: 0.1262\n",
      "Epoch 10/12\n",
      "469/469 [==============================] - 35s 75ms/step - loss: 2.2946 - accuracy: 0.1267 - val_loss: 2.2892 - val_accuracy: 0.1290\n",
      "Epoch 11/12\n",
      "469/469 [==============================] - 35s 74ms/step - loss: 2.2936 - accuracy: 0.1290 - val_loss: 2.2877 - val_accuracy: 0.1319\n",
      "Epoch 12/12\n",
      "469/469 [==============================] - 35s 74ms/step - loss: 2.2918 - accuracy: 0.1332 - val_loss: 2.2861 - val_accuracy: 0.1342\n",
      "313/313 [==============================] - 2s 6ms/step - loss: 2.2861 - accuracy: 0.1342\n"
     ]
    },
    {
     "data": {
      "text/plain": [
       "[2.2860820293426514, 0.13420000672340393]"
      ]
     },
     "execution_count": 14,
     "metadata": {},
     "output_type": "execute_result"
    }
   ],
   "source": [
    "# fit model using model.fit() using 20% of train set as validation set\n",
    "\n",
    "history = model.fit(x_train, y_train, epochs = epochs, batch_size = batch_size, validation_data = (x_test, y_test), verbose = 1) \n",
    "\n",
    "# evaluate model using model.evaluate()\n",
    "model.evaluate(x_test,y_test, verbose = 1)\n"
   ]
  },
  {
   "cell_type": "code",
   "execution_count": 15,
   "metadata": {},
   "outputs": [
    {
     "data": {
      "text/plain": [
       "<matplotlib.legend.Legend at 0x17780f93ee0>"
      ]
     },
     "execution_count": 15,
     "metadata": {},
     "output_type": "execute_result"
    },
    {
     "data": {
      "image/png": "[encoded data removed]",
      "text/plain": [
       "<Figure size 432x288 with 1 Axes>"
      ]
     },
     "metadata": {
      "needs_background": "light"
     },
     "output_type": "display_data"
    }
   ],
   "source": [
    "history_dict = history.history\n",
    "\n",
    "#plot loss\n",
    "epochs = range(1, len(history_dict['accuracy']) + 1)\n",
    "plt.plot(epochs, history_dict['loss'], 'bo', label='Training loss')\n",
    "plt.plot(epochs, history_dict['val_loss'], 'b', label='Validation loss')\n",
    "plt.title('Training and validation loss')\n",
    "plt.xlabel('Epochs')\n",
    "plt.ylabel('Loss')\n",
    "plt.legend()"
   ]
  },
  {
   "cell_type": "code",
   "execution_count": 16,
   "metadata": {},
   "outputs": [
    {
     "data": {
      "text/plain": [
       "<function matplotlib.pyplot.show(close=None, block=None)>"
      ]
     },
     "execution_count": 16,
     "metadata": {},
     "output_type": "execute_result"
    },
    {
     "data": {
      "image/png": "[encoded data removed]",
      "text/plain": [
       "<Figure size 432x288 with 1 Axes>"
      ]
     },
     "metadata": {
      "needs_background": "light"
     },
     "output_type": "display_data"
    }
   ],
   "source": [
    "# plot the learning curves\n",
    "\n",
    "#plot accuracy\n",
    "history_dict = history.history\n",
    "epochs = range(1, len(history_dict['accuracy']) + 1)\n",
    "plt.plot(epochs, history_dict['accuracy'], 'bo', label = \"Training accuracy\")\n",
    "plt.plot(epochs, history_dict['val_accuracy'], 'b', label = 'Validation acc')\n",
    "plt.title('Training and validation accuracy')\n",
    "plt.xlabel('Epochs')\n",
    "plt.ylabel('Loss')\n",
    "plt.legend()\n",
    "plt.show"
   ]
  },
  {
   "cell_type": "code",
   "execution_count": null,
   "metadata": {},
   "outputs": [],
   "source": [
    "print(len(y_train))"
   ]
  },
  {
   "cell_type": "markdown",
   "metadata": {},
   "source": [
    "# Exercise 2 : dogs vs cats"
   ]
  },
  {
   "cell_type": "code",
   "execution_count": 19,
   "metadata": {},
   "outputs": [],
   "source": [
    "import os\n",
    "from matplotlib.image import imread\n",
    "import random\n",
    "import numpy as np"
   ]
  },
  {
   "cell_type": "code",
   "execution_count": 20,
   "metadata": {},
   "outputs": [
    {
     "data": {
      "image/png": "[encoded data removed]",
      "text/plain": [
       "<Figure size 432x288 with 9 Axes>"
      ]
     },
     "metadata": {
      "needs_background": "light"
     },
     "output_type": "display_data"
    }
   ],
   "source": [
    "# define location of dataset\n",
    "folder = 'catsDogsSmall'\n",
    "\n",
    "# display some photos of dogs and  cats\n",
    "for i in range(9):\n",
    "    # define subplot\n",
    "    plt.subplot(330 + 1 + i)\n",
    "    # define filename\n",
    "    filename = folder + '/cat.' + str(i) + '.jpg'\n",
    "    # load image pixels\n",
    "    image = imread(filename)\n",
    "    # plot raw pixel data\n",
    "    plt.imshow(image)\n",
    "    \n",
    "# show the figure\n",
    "plt.show()"
   ]
  },
  {
   "cell_type": "code",
   "execution_count": 34,
   "metadata": {},
   "outputs": [],
   "source": [
    "from keras.preprocessing.image import load_img\n",
    "from keras.preprocessing.image import img_to_array\n",
    "import os\n",
    "\n",
    "'''\n",
    "Load all of the images, resize them, and store them as a numpy array. \n",
    "The label is determined for each photo based on the filenames; labels are stored as a numpy array.\n",
    "'''\n",
    "\n",
    "photos, labels = list(), list()\n",
    "\n",
    "# target_size\n",
    "img_height = 200\n",
    "img_width = 200\n",
    "epochs = 20\n",
    "\n",
    "for file in os.listdir(folder):\n",
    "    \n",
    "    # determine the class (binary problem)\n",
    "    raw_label = file.split('.')[0]\n",
    "    label = 0\n",
    "    if raw_label == \"cat\":\n",
    "        label = 1\n",
    "    # load photos using load_img()\n",
    "    image = load_img(\"catsDogsSmall/\" + file, target_size=(img_height,img_width))\n",
    "    # convert to numpy array using img_to_array()\n",
    "    image = img_to_array(image)\n",
    "    # append\n",
    "    photos.append(image)\n",
    "    labels.append(label)\n",
    "    \n",
    "# convert to numpy arrays\n",
    "array_labels = np.array(labels)\n",
    "array_photos = np.array(photos, dtype=object)"
   ]
  },
  {
   "cell_type": "code",
   "execution_count": 36,
   "metadata": {},
   "outputs": [
    {
     "name": "stdout",
     "output_type": "stream",
     "text": [
      "2000\n"
     ]
    }
   ],
   "source": [
    "print(len(array_photos))"
   ]
  },
  {
   "cell_type": "code",
   "execution_count": 37,
   "metadata": {},
   "outputs": [],
   "source": [
    "from sklearn.model_selection import train_test_split\n",
    "\n",
    "# split data into train, validation and test sets\n",
    "x_train, x_test, y_train, y_test = train_test_split(array_photos, array_labels, test_size = 0.2, random_state = 42)"
   ]
  },
  {
   "cell_type": "code",
   "execution_count": 38,
   "metadata": {},
   "outputs": [],
   "source": [
    "from keras.preprocessing.image import ImageDataGenerator\n",
    "import pandas as pd\n",
    "\n",
    "# use ImageDataGenerator and ImageDataGenerator.flow() to create train, validation, and test iterators \n",
    "# refer to the documentation: https://keras.io/api/preprocessing/image/\n",
    "datagen = ImageDataGenerator(rescale = 1.0/255.0)\n",
    "#y_train = keras.utils.to_categorical(y_train)\n",
    "train_iterator = datagen.flow(x_train, y_train, batch_size=64)\n",
    "test_iterator = datagen.flow(x_test,y_test, batch_size=64)"
   ]
  },
  {
   "cell_type": "code",
   "execution_count": 39,
   "metadata": {},
   "outputs": [],
   "source": [
    "# define a cnn model\n",
    "from keras.models import Sequential\n",
    "from keras.layers import Conv2D\n",
    "from keras.layers import MaxPooling2D\n",
    "from keras.layers import Dropout\n",
    "from keras.layers import Flatten\n",
    "from keras.layers import Dense\n",
    "from keras.optimizers import SGD\n",
    "\n",
    "def define_cnn_model():\n",
    "    # model architecture\n",
    "    model = Sequential()\n",
    "    model.add(Conv2D(32,(3,3), activation = 'relu', kernel_initializer='he_uniform', \n",
    "                     padding='same',input_shape=(img_height,img_width,3)))\n",
    "    model.add(Conv2D(64,(3,3), activation = 'relu', kernel_initializer='he_uniform', \n",
    "                     padding='same',input_shape=(img_height,img_width,3)))\n",
    "    model.add(MaxPooling2D(pool_size = (2,2)))\n",
    "    model.add(Dropout(0.25))\n",
    "    model.add(Flatten())\n",
    "    model.add(Dense(128, activation = 'elu', kernel_initializer='he_uniform'))\n",
    "    model.add(Dropout(0.5))\n",
    "    model.add(Dense(1, activation = 'sigmoid'))\n",
    "    return model\n",
    "model = define_cnn_model()"
   ]
  },
  {
   "cell_type": "code",
   "execution_count": 40,
   "metadata": {},
   "outputs": [
    {
     "name": "stdout",
     "output_type": "stream",
     "text": [
      "Epoch 1/20\n",
      "25/25 [==============================] - 71s 3s/step - loss: 2.7270 - accuracy: 0.4977 - val_loss: 0.6842 - val_accuracy: 0.5675\n",
      "Epoch 2/20\n",
      "25/25 [==============================] - 70s 3s/step - loss: 0.7209 - accuracy: 0.5540 - val_loss: 0.6741 - val_accuracy: 0.5675\n",
      "Epoch 3/20\n",
      "25/25 [==============================] - 69s 3s/step - loss: 0.6736 - accuracy: 0.5824 - val_loss: 0.6604 - val_accuracy: 0.5700\n",
      "Epoch 4/20\n",
      "25/25 [==============================] - 71s 3s/step - loss: 0.6163 - accuracy: 0.6678 - val_loss: 0.6401 - val_accuracy: 0.6050\n",
      "Epoch 5/20\n",
      "25/25 [==============================] - 72s 3s/step - loss: 0.5991 - accuracy: 0.6785 - val_loss: 0.6402 - val_accuracy: 0.6000\n",
      "Epoch 6/20\n",
      "25/25 [==============================] - 72s 3s/step - loss: 0.5655 - accuracy: 0.7275 - val_loss: 0.6175 - val_accuracy: 0.6275\n",
      "Epoch 7/20\n",
      "25/25 [==============================] - 71s 3s/step - loss: 0.5299 - accuracy: 0.7553 - val_loss: 0.6036 - val_accuracy: 0.6575\n",
      "Epoch 8/20\n",
      "25/25 [==============================] - 71s 3s/step - loss: 0.5058 - accuracy: 0.7513 - val_loss: 0.6140 - val_accuracy: 0.6575\n",
      "Epoch 9/20\n",
      "25/25 [==============================] - 71s 3s/step - loss: 0.4778 - accuracy: 0.7857 - val_loss: 0.5963 - val_accuracy: 0.6625\n",
      "Epoch 10/20\n",
      "25/25 [==============================] - 70s 3s/step - loss: 0.4521 - accuracy: 0.8089 - val_loss: 0.6079 - val_accuracy: 0.6625\n",
      "Epoch 11/20\n",
      "25/25 [==============================] - 70s 3s/step - loss: 0.4244 - accuracy: 0.8315 - val_loss: 0.5911 - val_accuracy: 0.6775\n",
      "Epoch 12/20\n",
      "25/25 [==============================] - 70s 3s/step - loss: 0.3814 - accuracy: 0.8608 - val_loss: 0.6496 - val_accuracy: 0.6250\n",
      "Epoch 13/20\n",
      "25/25 [==============================] - 69s 3s/step - loss: 0.3803 - accuracy: 0.8615 - val_loss: 0.5930 - val_accuracy: 0.6875\n",
      "Epoch 14/20\n",
      "25/25 [==============================] - 72s 3s/step - loss: 0.3230 - accuracy: 0.9054 - val_loss: 0.5865 - val_accuracy: 0.6875\n",
      "Epoch 15/20\n",
      "25/25 [==============================] - 74s 3s/step - loss: 0.2866 - accuracy: 0.9273 - val_loss: 0.6042 - val_accuracy: 0.6750\n",
      "Epoch 16/20\n",
      "25/25 [==============================] - 75s 3s/step - loss: 0.2571 - accuracy: 0.9339 - val_loss: 0.5868 - val_accuracy: 0.6800\n",
      "Epoch 17/20\n",
      "25/25 [==============================] - 75s 3s/step - loss: 0.2306 - accuracy: 0.9419 - val_loss: 0.5942 - val_accuracy: 0.6750\n",
      "Epoch 18/20\n",
      "25/25 [==============================] - 75s 3s/step - loss: 0.1946 - accuracy: 0.9647 - val_loss: 0.6018 - val_accuracy: 0.7000\n",
      "Epoch 19/20\n",
      "25/25 [==============================] - 70s 3s/step - loss: 0.1882 - accuracy: 0.9636 - val_loss: 0.6481 - val_accuracy: 0.6725\n",
      "Epoch 20/20\n",
      "25/25 [==============================] - 70s 3s/step - loss: 0.1750 - accuracy: 0.9655 - val_loss: 0.6306 - val_accuracy: 0.7050\n"
     ]
    }
   ],
   "source": [
    "# compile model using model.compile() \n",
    "opt = SGD(lr=0.001, momentum=0.9)\n",
    "model.compile(optimizer = opt,loss = \"binary_crossentropy\", metrics=['accuracy'])\n",
    "\n",
    "# fit model using model.fit()\n",
    "history = model.fit(train_iterator, steps_per_epoch=len(train_iterator), batch_size = 128, epochs = epochs, verbose =1, validation_data = (test_iterator))"
   ]
  },
  {
   "cell_type": "code",
   "execution_count": 26,
   "metadata": {},
   "outputs": [
    {
     "data": {
      "text/plain": [
       "<function matplotlib.pyplot.show(close=None, block=None)>"
      ]
     },
     "execution_count": 26,
     "metadata": {},
     "output_type": "execute_result"
    },
    {
     "data": {
      "image/png": "[encoded data removed]",
      "text/plain": [
       "<Figure size 432x288 with 1 Axes>"
      ]
     },
     "metadata": {
      "needs_background": "light"
     },
     "output_type": "display_data"
    }
   ],
   "source": [
    "# plot the learning curves\n",
    "\n",
    "#plot accuracy\n",
    "history_dict = history.history\n",
    "epochs = range(1, len(history_dict['accuracy']) + 1)\n",
    "plt.plot(epochs, history_dict['accuracy'], 'bo', label = \"Training accuracy\")\n",
    "plt.plot(epochs, history_dict['val_accuracy'], 'b', label = 'Validation acc')\n",
    "plt.title('Training and validation accuracy')\n",
    "plt.xlabel('Epochs')\n",
    "plt.ylabel('Loss')\n",
    "plt.legend()\n",
    "plt.show"
   ]
  },
  {
   "cell_type": "code",
   "execution_count": 27,
   "metadata": {},
   "outputs": [
    {
     "data": {
      "text/plain": [
       "Text(0.5, 1.0, 'Training and validation loss')"
      ]
     },
     "execution_count": 27,
     "metadata": {},
     "output_type": "execute_result"
    },
    {
     "data": {
      "image/png": "[encoded data removed]",
      "text/plain": [
       "<Figure size 432x288 with 1 Axes>"
      ]
     },
     "metadata": {
      "needs_background": "light"
     },
     "output_type": "display_data"
    }
   ],
   "source": [
    "#plot loss\n",
    "plt.plot(epochs, history_dict['loss'], 'bo', label = \"Training accuracy\")\n",
    "plt.plot(epochs, history_dict['val_loss'], 'b', label = 'Validation acc')\n",
    "plt.title('Training and validation loss')"
   ]
  },
  {
   "cell_type": "code",
   "execution_count": 28,
   "metadata": {},
   "outputs": [
    {
     "name": "stdout",
     "output_type": "stream",
     "text": [
      "25/25 - 5s - loss: 0.2575 - accuracy: 0.9381\n"
     ]
    },
    {
     "data": {
      "text/plain": [
       "[0.257531076669693, 0.9381250143051147]"
      ]
     },
     "execution_count": 28,
     "metadata": {},
     "output_type": "execute_result"
    }
   ],
   "source": [
    "# evaluate model using model.evaluate()\n",
    "model.evaluate(train_iterator, verbose = 2)"
   ]
  },
  {
   "cell_type": "markdown",
   "metadata": {},
   "source": [
    "## VGG16 Model"
   ]
  },
  {
   "cell_type": "code",
   "execution_count": 76,
   "metadata": {},
   "outputs": [],
   "source": [
    "photos, labels = list(), list()\n",
    "epochs = 10\n",
    "for file in os.listdir(folder):\n",
    "    \n",
    "    # determine the class (binary problem)\n",
    "    raw_label = file.split('.')[0]\n",
    "    label = 0\n",
    "    if raw_label == \"cat\":\n",
    "        label = 1\n",
    "    # load photos using load_img()\n",
    "    image = load_img(\"catsDogsSmall/\" + file, target_size=(244,244))\n",
    "    # convert to numpy array using img_to_array()\n",
    "    image = img_to_array(image)\n",
    "    # append\n",
    "    photos.append(image)\n",
    "    labels.append(label)\n",
    "    \n",
    "# convert to numpy arrays\n",
    "array_labels = np.array(labels)\n",
    "array_photos = np.array(photos, dtype=object)"
   ]
  },
  {
   "cell_type": "code",
   "execution_count": 77,
   "metadata": {},
   "outputs": [],
   "source": [
    "trained_photos = keras.applications.vgg16.preprocess_input(array_photos)"
   ]
  },
  {
   "cell_type": "code",
   "execution_count": 81,
   "metadata": {},
   "outputs": [],
   "source": [
    "from keras.preprocessing.image import ImageDataGenerator\n",
    "import pandas as pd\n",
    "\n",
    "\n",
    "# use ImageDataGenerator and ImageDataGenerator.flow() to create train, validation, and test iterators \n",
    "# refer to the documentation: https://keras.io/api/preprocessing/image/\n",
    "datagen = ImageDataGenerator(rescale = 1.0/255.0)\n",
    "#y_train = keras.utils.to_categorical(y_train)\n",
    "train_iterator = datagen.flow(x_train, y_train, batch_size=64)\n",
    "test_iterator = datagen.flow(x_test,y_test, batch_size=64)"
   ]
  },
  {
   "cell_type": "code",
   "execution_count": 82,
   "metadata": {},
   "outputs": [
    {
     "data": {
      "text/plain": [
       "tensorflow.python.keras.preprocessing.image.NumpyArrayIterator"
      ]
     },
     "execution_count": 82,
     "metadata": {},
     "output_type": "execute_result"
    }
   ],
   "source": [
    "type(train_iterator)"
   ]
  },
  {
   "cell_type": "code",
   "execution_count": 83,
   "metadata": {},
   "outputs": [],
   "source": [
    "# transfer learning using VGG16 model\n",
    "from keras.applications.vgg16 import VGG16\n",
    "from keras.layers import Dense\n",
    "from keras.layers import Flatten\n",
    "from keras.models import Model\n",
    "from keras.optimizers import SGD\n",
    "\n",
    "def transfer_model():\n",
    "    # load VGG16 model\n",
    "    model = VGG16(include_top=False, input_shape=(224, 224, 3))\n",
    "    # mark loaded layers as not trainable\n",
    "    for layer in model.layers:\n",
    "        layer.trainable = False\n",
    "    # add new classifier layers\n",
    "    flat1 = Flatten()(model.layers[-1].output)\n",
    "    class1 = Dense(128, activation='relu', kernel_initializer='he_uniform')(flat1)\n",
    "    output = Dense(1, activation='sigmoid')(class1)\n",
    "    # define new model\n",
    "    model = Model(inputs=model.inputs, outputs=output)\n",
    "    # compile model\n",
    "    opt = SGD(lr=0.001, momentum=0.9)\n",
    "    model.compile(optimizer=opt, loss='binary_crossentropy', metrics=['accuracy'])\n",
    "    return model"
   ]
  },
  {
   "cell_type": "code",
   "execution_count": 84,
   "metadata": {},
   "outputs": [
    {
     "name": "stdout",
     "output_type": "stream",
     "text": [
      "Model: \"model_4\"\n",
      "_________________________________________________________________\n",
      "Layer (type)                 Output Shape              Param #   \n",
      "=================================================================\n",
      "input_5 (InputLayer)         [(None, 224, 224, 3)]     0         \n",
      "_________________________________________________________________\n",
      "block1_conv1 (Conv2D)        (None, 224, 224, 64)      1792      \n",
      "_________________________________________________________________\n",
      "block1_conv2 (Conv2D)        (None, 224, 224, 64)      36928     \n",
      "_________________________________________________________________\n",
      "block1_pool (MaxPooling2D)   (None, 112, 112, 64)      0         \n",
      "_________________________________________________________________\n",
      "block2_conv1 (Conv2D)        (None, 112, 112, 128)     73856     \n",
      "_________________________________________________________________\n",
      "block2_conv2 (Conv2D)        (None, 112, 112, 128)     147584    \n",
      "_________________________________________________________________\n",
      "block2_pool (MaxPooling2D)   (None, 56, 56, 128)       0         \n",
      "_________________________________________________________________\n",
      "block3_conv1 (Conv2D)        (None, 56, 56, 256)       295168    \n",
      "_________________________________________________________________\n",
      "block3_conv2 (Conv2D)        (None, 56, 56, 256)       590080    \n",
      "_________________________________________________________________\n",
      "block3_conv3 (Conv2D)        (None, 56, 56, 256)       590080    \n",
      "_________________________________________________________________\n",
      "block3_pool (MaxPooling2D)   (None, 28, 28, 256)       0         \n",
      "_________________________________________________________________\n",
      "block4_conv1 (Conv2D)        (None, 28, 28, 512)       1180160   \n",
      "_________________________________________________________________\n",
      "block4_conv2 (Conv2D)        (None, 28, 28, 512)       2359808   \n",
      "_________________________________________________________________\n",
      "block4_conv3 (Conv2D)        (None, 28, 28, 512)       2359808   \n",
      "_________________________________________________________________\n",
      "block4_pool (MaxPooling2D)   (None, 14, 14, 512)       0         \n",
      "_________________________________________________________________\n",
      "block5_conv1 (Conv2D)        (None, 14, 14, 512)       2359808   \n",
      "_________________________________________________________________\n",
      "block5_conv2 (Conv2D)        (None, 14, 14, 512)       2359808   \n",
      "_________________________________________________________________\n",
      "block5_conv3 (Conv2D)        (None, 14, 14, 512)       2359808   \n",
      "_________________________________________________________________\n",
      "block5_pool (MaxPooling2D)   (None, 7, 7, 512)         0         \n",
      "_________________________________________________________________\n",
      "flatten_8 (Flatten)          (None, 25088)             0         \n",
      "_________________________________________________________________\n",
      "dense_16 (Dense)             (None, 128)               3211392   \n",
      "_________________________________________________________________\n",
      "dense_17 (Dense)             (None, 1)                 129       \n",
      "=================================================================\n",
      "Total params: 17,926,209\n",
      "Trainable params: 3,211,521\n",
      "Non-trainable params: 14,714,688\n",
      "_________________________________________________________________\n"
     ]
    }
   ],
   "source": [
    "model = transfer_model()\n",
    "model.summary()"
   ]
  },
  {
   "cell_type": "code",
   "execution_count": 85,
   "metadata": {},
   "outputs": [],
   "source": [
    "# compile model using model.compile() \n",
    "opt = SGD(lr=0.001, momentum=0.9)\n",
    "model.compile(optimizer = opt,loss = \"binary_crossentropy\", metrics=['accuracy'])"
   ]
  },
  {
   "cell_type": "code",
   "execution_count": 87,
   "metadata": {},
   "outputs": [
    {
     "name": "stdout",
     "output_type": "stream",
     "text": [
      "Epoch 1/10\n",
      "25/25 [==============================] - 96s 4s/step - loss: 0.2266 - accuracy: 0.9094 - val_loss: 0.3293 - val_accuracy: 0.8350\n",
      "Epoch 2/10\n",
      "25/25 [==============================] - 96s 4s/step - loss: 0.1962 - accuracy: 0.9212 - val_loss: 0.2899 - val_accuracy: 0.8875\n",
      "Epoch 3/10\n",
      "25/25 [==============================] - 98s 4s/step - loss: 0.1708 - accuracy: 0.9394 - val_loss: 0.2428 - val_accuracy: 0.8950\n",
      "Epoch 4/10\n",
      "25/25 [==============================] - 97s 4s/step - loss: 0.1357 - accuracy: 0.9606 - val_loss: 0.2289 - val_accuracy: 0.9100\n",
      "Epoch 5/10\n",
      "25/25 [==============================] - 97s 4s/step - loss: 0.1267 - accuracy: 0.9619 - val_loss: 0.2266 - val_accuracy: 0.9100\n",
      "Epoch 6/10\n",
      "25/25 [==============================] - 97s 4s/step - loss: 0.1114 - accuracy: 0.9700 - val_loss: 0.2225 - val_accuracy: 0.9175\n",
      "Epoch 7/10\n",
      "25/25 [==============================] - 96s 4s/step - loss: 0.1366 - accuracy: 0.9513 - val_loss: 0.2894 - val_accuracy: 0.8600\n",
      "Epoch 8/10\n",
      "25/25 [==============================] - 96s 4s/step - loss: 0.1085 - accuracy: 0.9706 - val_loss: 0.2302 - val_accuracy: 0.9075\n",
      "Epoch 9/10\n",
      "25/25 [==============================] - 96s 4s/step - loss: 0.0897 - accuracy: 0.9831 - val_loss: 0.2175 - val_accuracy: 0.9100\n",
      "Epoch 10/10\n",
      "25/25 [==============================] - 97s 4s/step - loss: 0.0851 - accuracy: 0.9800 - val_loss: 0.2155 - val_accuracy: 0.9075\n"
     ]
    }
   ],
   "source": [
    "# fit model using model.fit()\n",
    "history = model.fit(train_iterator, steps_per_epoch=len(train_iterator), batch_size = 128, epochs = 10, verbose =1, validation_data = (test_iterator))"
   ]
  },
  {
   "cell_type": "code",
   "execution_count": 90,
   "metadata": {},
   "outputs": [
    {
     "data": {
      "text/plain": [
       "<function matplotlib.pyplot.show(close=None, block=None)>"
      ]
     },
     "execution_count": 90,
     "metadata": {},
     "output_type": "execute_result"
    },
    {
     "data": {
      "image/png": "[encoded data removed]",
      "text/plain": [
       "<Figure size 432x288 with 1 Axes>"
      ]
     },
     "metadata": {
      "needs_background": "light"
     },
     "output_type": "display_data"
    }
   ],
   "source": [
    "# plot the learning curves\n",
    "epochs = range(1, len(history_dict['accuracy']) + 1)\n",
    "\n",
    "#plot accuracy\n",
    "history_dict = history.history\n",
    "plt.plot(epochs, history_dict['accuracy'], 'bo', label = \"Training accuracy\")\n",
    "plt.plot(epochs, history_dict['val_accuracy'], 'b', label = 'Validation acc')\n",
    "plt.title('Training and validation accuracy')\n",
    "plt.xlabel('Epochs')\n",
    "plt.ylabel('Loss')\n",
    "plt.legend()\n",
    "plt.show\n"
   ]
  },
  {
   "cell_type": "code",
   "execution_count": 91,
   "metadata": {},
   "outputs": [
    {
     "data": {
      "text/plain": [
       "Text(0.5, 1.0, 'Training and validation loss')"
      ]
     },
     "execution_count": 91,
     "metadata": {},
     "output_type": "execute_result"
    },
    {
     "data": {
      "image/png": "[encoded data removed]",
      "text/plain": [
       "<Figure size 432x288 with 1 Axes>"
      ]
     },
     "metadata": {
      "needs_background": "light"
     },
     "output_type": "display_data"
    }
   ],
   "source": [
    "#plot loss\n",
    "plt.plot(epochs, history_dict['loss'], 'bo', label = \"Training accuracy\")\n",
    "plt.plot(epochs, history_dict['val_loss'], 'b', label = 'Validation acc')\n",
    "plt.title('Training and validation loss')"
   ]
  },
  {
   "cell_type": "code",
   "execution_count": null,
   "metadata": {},
   "outputs": [],
   "source": [
    "type(x_train)"
   ]
  }
 ],
 "metadata": {
  "kernelspec": {
   "display_name": "Python 3",
   "language": "python",
   "name": "python3"
  },
  "language_info": {
   "codemirror_mode": {
    "name": "ipython",
    "version": 3
   },
   "file_extension": ".py",
   "mimetype": "text/x-python",
   "name": "python",
   "nbconvert_exporter": "python",
   "pygments_lexer": "ipython3",
   "version": "3.8.5"
  }
 },
 "nbformat": 4,
 "nbformat_minor": 4
}
